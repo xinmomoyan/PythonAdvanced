{
 "cells": [
  {
   "cell_type": "markdown",
   "metadata": {
    "collapsed": true
   },
   "source": [
    "### 一. 什么是pandas\n",
    "\n",
    "pandas是基于NumPy的一种工具 该工具是为了解决数据分析任务而创建的\n",
    "\n",
    "pandas纳入了大量库及一些标准的数据模型，提供了高效的操作大型数据集所需要的工具\n",
    "\n",
    "pandas提供了大量能使我们快速便捷地处理数据的函数与方法\n",
    "\n",
    "它是python成为强大而高效的数据分析环境的重要因素之一"
   ]
  },
  {
   "cell_type": "markdown",
   "metadata": {},
   "source": [
    "### 导入"
   ]
  },
  {
   "cell_type": "code",
   "execution_count": 3,
   "metadata": {},
   "outputs": [],
   "source": [
    "# 三剑客\n",
    "import numpy\n",
    "import pandas\n",
    "from pandas import Series,DataFrame"
   ]
  },
  {
   "cell_type": "code",
   "execution_count": null,
   "metadata": {},
   "outputs": [],
   "source": []
  }
 ],
 "metadata": {
  "kernelspec": {
   "display_name": "Python 2",
   "language": "python",
   "name": "python2"
  },
  "language_info": {
   "codemirror_mode": {
    "name": "ipython",
    "version": 2
   },
   "file_extension": ".py",
   "mimetype": "text/x-python",
   "name": "python",
   "nbconvert_exporter": "python",
   "pygments_lexer": "ipython2",
   "version": "2.7.6"
  }
 },
 "nbformat": 4,
 "nbformat_minor": 0
}
