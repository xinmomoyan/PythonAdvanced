{
 "cells": [
  {
   "cell_type": "markdown",
   "metadata": {
    "collapsed": true
   },
   "source": [
    "### 3.继承"
   ]
  },
  {
   "cell_type": "markdown",
   "metadata": {},
   "source": [
    "如果你要编写的类是另一个现成类的特殊版本，可使用继承。一个类继承另一个类时，它将自动获得另一个类的所有属性和方法；原有的类称为父类，而新类称为子类。子类继承了其父类的所有属性和方法，同时还可以定义自己的属性和方法。"
   ]
  },
  {
   "cell_type": "markdown",
   "metadata": {},
   "source": [
    "3.1子类的方法 __init__()<br>\n",
    "创建子类的实例时，Python首先需要完成的任务是给父类的所有属性赋值。为此，子类的方法 __init__() \n",
    "需要父类施以援手。<br>\n",
    "例如，下面来模拟电动汽车。电动汽车是一种特殊的汽车，因此我们可以在前面创建的 Car类的基础上创建新类 ElectricCar ，这样我们就只需为电动汽车特有的属性和行为编写代码。下面来创建一个简单的 ElectricCar 类版本，它具备 Car 类的所有功能："
   ]
  },
  {
   "cell_type": "code",
   "execution_count": 1,
   "metadata": {},
   "outputs": [],
   "source": [
    "\"\"\"A class that can be used to represent a car.\"\"\"\n",
    "\n",
    "class Car():\n",
    "    \"\"\"A simple attempt to represent a car.\"\"\"\n",
    "\n",
    "    def __init__(self, manufacturer, model, year):\n",
    "        \"\"\"Initialize attributes to describe a car.\"\"\"\n",
    "        self.manufacturer = manufacturer\n",
    "        self.model = model\n",
    "        self.year = year\n",
    "        self.odometer_reading = 0\n",
    "        \n",
    "    def get_descriptive_name(self):\n",
    "        \"\"\"Return a neatly formatted descriptive name.\"\"\"\n",
    "        long_name = str(self.year) + ' ' + self.manufacturer + ' ' + self.model\n",
    "        return long_name.title()\n",
    "    \n",
    "    def read_odometer(self):\n",
    "        \"\"\"Print a statement showing the car's mileage.\"\"\"\n",
    "        print(\"This car has \" + str(self.odometer_reading) + \" miles on it.\")\n",
    "        \n",
    "    def update_odometer(self, mileage):\n",
    "        \"\"\"\n",
    "        Set the odometer reading to the given value.\n",
    "        Reject the change if it attempts to roll the odometer back.\n",
    "        \"\"\"\n",
    "        if mileage >= self.odometer_reading:\n",
    "            self.odometer_reading = mileage\n",
    "        else:\n",
    "            print(\"You can't roll back an odometer!\")\n",
    "    \n",
    "    def increment_odometer(self, miles):\n",
    "        \"\"\"Add the given amount to the odometer reading.\"\"\"\n",
    "        self.odometer_reading += miles\n"
   ]
  },
  {
   "cell_type": "code",
   "execution_count": 2,
   "metadata": {},
   "outputs": [],
   "source": [
    "class ElectricCar(Car):\n",
    "    \"\"\"Models aspects of a car, specific to electric vehicles.\"\"\"\n",
    "\n",
    "    def __init__(self, manufacturer, model, year):\n",
    "        \"\"\"\n",
    "        Initialize attributes of the parent class.\n",
    "        Then initialize attributes specific to an electric car.\n",
    "        \"\"\"\n",
    "        super().__init__(manufacturer, model, year)\n"
   ]
  },
  {
   "cell_type": "markdown",
   "metadata": {},
   "source": [
    "首先是 Car 类的代码。创建子类时，父类必须包含在当前文件中，且位于子类前面。我们定义了子类 ElectricCar 。定义子类时，必须在括号内指定父类的名称。方法 __init__()接受创建 Car 实例所需的信息。"
   ]
  },
  {
   "cell_type": "markdown",
   "metadata": {},
   "source": [
    "super() 是一个特殊函数，帮助Python将父类和子类关联起来。这行代码让Python调用\n",
    "ElectricCar 的父类的方法 __init__() ，让 ElectricCar 实例包含父类的所有属性。父类也称为超\n",
    "类（superclass），名称super因此而得名。"
   ]
  },
  {
   "cell_type": "markdown",
   "metadata": {},
   "source": [
    "为测试继承是否能够正确地发挥作用，我们尝试创建一辆电动汽车，但提供的信息与创建普通汽车时相同。在处，我们创建 ElectricCar 类的一个实例，并将其存储在变量 my_tesla 中。这行代码调用 ElectricCar 类中定义的方法 __init__() ，后者让Python调用父类 Car 中定义的方法\n",
    "__init__() 。我们提供了实参 'tesla' 、 'model s' 和 2016 。\n",
    "除方法 __init__() 外，电动汽车没有其他特有的属性和方法。当前，我们只想确认电动汽车具备普通汽车的行为："
   ]
  },
  {
   "cell_type": "code",
   "execution_count": 3,
   "metadata": {},
   "outputs": [
    {
     "name": "stdout",
     "output_type": "stream",
     "text": [
      "2016 Tesla Model S\n"
     ]
    }
   ],
   "source": [
    "my_tesla = ElectricCar('tesla', 'model s', 2016)\n",
    "print(my_tesla.get_descriptive_name())"
   ]
  },
  {
   "cell_type": "markdown",
   "metadata": {},
   "source": [
    "3.2 Python2.7中的继承。<br>在Python 2.7中，继承语法稍有不同， ElectricCar 类的定义类似于下面这样：<br>函数 super() 需要两个实参：子类名和对象 self 。为帮助Python将父类和子类关联起来，这些实参必不可少。另外，在Python 2.7中使用继承时，务必在定义父类时在括号内指定 object 。"
   ]
  },
  {
   "cell_type": "code",
   "execution_count": 4,
   "metadata": {},
   "outputs": [],
   "source": [
    "# class Car(object):\n",
    "#     def __init__(self, make, model, year):\n",
    "#     -- snip --\n",
    "# class ElectricCar(Car):\n",
    "#     def __init__(self, make, model, year):\n",
    "#         super(ElectricCar, self).__init__(make, model, year)\n",
    "#         -- snip --"
   ]
  },
  {
   "cell_type": "markdown",
   "metadata": {},
   "source": [
    "3.3 给子类定义属性和方法"
   ]
  },
  {
   "cell_type": "markdown",
   "metadata": {},
   "source": [
    "让一个类继承另一个类后，可添加区分子类和父类所需的新属性和方法。\n",
    "下面来添加一个电动汽车特有的属性（电瓶），以及一个描述该属性的方法。我们将存储电\n",
    "瓶容量，并编写一个打印电瓶描述的方法："
   ]
  },
  {
   "cell_type": "code",
   "execution_count": 5,
   "metadata": {},
   "outputs": [],
   "source": [
    "class ElectricCar(Car):\n",
    "    \"\"\"Models aspects of a car, specific to electric vehicles.\"\"\"\n",
    "\n",
    "    def __init__(self, manufacturer, model, year):\n",
    "        \"\"\"\n",
    "        Initialize attributes of the parent class.\n",
    "        Then initialize attributes specific to an electric car.\n",
    "        \"\"\"\n",
    "        super().__init__(manufacturer, model, year)\n",
    "        self.battery_size = 70\n",
    "        \n",
    "    def describe_battery(self):\n",
    "        \"\"\"打印一条描述电瓶容量的消息\"\"\"\n",
    "        print(\"This car has a \" + str(self.battery_size) + \"-kWh battery.\")"
   ]
  },
  {
   "cell_type": "code",
   "execution_count": 6,
   "metadata": {},
   "outputs": [
    {
     "name": "stdout",
     "output_type": "stream",
     "text": [
      "2016 Tesla Model S\nThis car has a 70-kWh battery.\n"
     ]
    }
   ],
   "source": [
    "my_tesla = ElectricCar('tesla', 'model s', 2016)\n",
    "print(my_tesla.get_descriptive_name())\n",
    "my_tesla.describe_battery()"
   ]
  },
  {
   "cell_type": "markdown",
   "metadata": {},
   "source": [
    "3.4 重写父类的方法<br>\n",
    "对于父类的方法，只要它不符合子类模拟的实物的行为，都可对其进行重写。为此，可在子\n",
    "类中定义一个这样的方法，即它与要重写的父类方法同名。这样，Python将不会考虑这个父类方\n",
    "法，而只关注你在子类中定义的相应方法。\n",
    "假设 Car 类有一个名为 fill_gas_tank() 的方法，它对全电动汽车来说毫无意义，因此你可能\n",
    "想重写它。下面演示了一种重写方式："
   ]
  },
  {
   "cell_type": "code",
   "execution_count": 7,
   "metadata": {},
   "outputs": [],
   "source": [
    "# class ElectricCar(Car):\n",
    "#     -- snip --\n",
    "#     def fill_gas_tank(self):\n",
    "#         \"\"\"电动汽车没有油箱\"\"\"\n",
    "#         print(\"This car doesn't need a gas tank!\")"
   ]
  },
  {
   "cell_type": "markdown",
   "metadata": {},
   "source": [
    "现在，如果有人对电动汽车调用方法 fill_gas_tank() ，Python将忽略 Car 类中的方法\n",
    "fill_gas_tank() ，转而运行上述代码。使用继承时，可让子类保留从父类那里继承而来的精华，\n",
    "并剔除不需要的糟粕。"
   ]
  },
  {
   "cell_type": "markdown",
   "metadata": {},
   "source": [
    "3.5 将实例用作属性<br>\n",
    "使用代码模拟实物时，你可能会发现自己给类添加的细节越来越多：属性和方法清单以及文\n",
    "件都越来越长。在这种情况下，可能需要将类的一部分作为一个独立的类提取出来。你可以将大\n",
    "型类拆分成多个协同工作的小类。"
   ]
  },
  {
   "cell_type": "markdown",
   "metadata": {},
   "source": [
    "例如，不断给 ElectricCar 类添加细节时，我们可能会发现其中包含很多专门针对汽车电瓶\n",
    "的属性和方法。在这种情况下，我们可将这些属性和方法提取出来，放到另一个名为 Battery 的\n",
    "类中，并将一个 Battery 实例用作 ElectricCar 类的一个属性："
   ]
  },
  {
   "cell_type": "code",
   "execution_count": 10,
   "metadata": {},
   "outputs": [],
   "source": [
    "# class Car():\n",
    "#     -- snip --\n",
    "class Battery():\n",
    "    \"\"\"A simple attempt to model a battery for an electric car.\"\"\"\n",
    "\n",
    "    def __init__(self, battery_size=60):\n",
    "        \"\"\"Initialize the batteery's attributes.\"\"\"\n",
    "        self.battery_size = battery_size\n",
    "\n",
    "    def describe_battery(self):\n",
    "        \"\"\"Print a statement describing the battery size.\"\"\"\n",
    "        print(\"This car has a \" + str(self.battery_size) + \"-kWh battery.\")  "
   ]
  },
  {
   "cell_type": "code",
   "execution_count": 11,
   "metadata": {},
   "outputs": [],
   "source": [
    "class ElectricCar(Car):\n",
    "    \"\"\"Models aspects of a car, specific to electric vehicles.\"\"\"\n",
    "\n",
    "    def __init__(self, manufacturer, model, year):\n",
    "        \"\"\"\n",
    "        Initialize attributes of the parent class.\n",
    "        Then initialize attributes specific to an electric car.\n",
    "        \"\"\"\n",
    "        super().__init__(manufacturer, model, year)\n",
    "        self.battery = Battery()"
   ]
  },
  {
   "cell_type": "markdown",
   "metadata": {},
   "source": [
    "我们定义了一个名为 Battery 的新类，它没有继承任何类。方法 __init__() 除\n",
    "self 外，还有另一个形参 battery_size 。这个形参是可选的：如果没有给它提供值，电瓶容量将\n",
    "被设置为60。方法 describe_battery() 也移到了这个类中。"
   ]
  },
  {
   "cell_type": "markdown",
   "metadata": {},
   "source": [
    "在 ElectricCar 类中，我们添加了一个名为 self.battery 的属性。这行代码让Python\n",
    "创建一个新的 Battery 实例（由于没有指定尺寸，因此为默认值 60 ），并将该实例存储在属性\n",
    "self.battery 中。每当方法 __init__() 被调用时，都将执行该操作；因此现在每个 ElectricCar 实\n",
    "例都包含一个自动创建的 Battery 实例。"
   ]
  },
  {
   "cell_type": "code",
   "execution_count": 13,
   "metadata": {},
   "outputs": [
    {
     "name": "stdout",
     "output_type": "stream",
     "text": [
      "2016 Tesla Model S\nThis car has a 60-kWh battery.\n"
     ]
    }
   ],
   "source": [
    "my_tesla = ElectricCar('tesla', 'model s', 2016)\n",
    "print(my_tesla.get_descriptive_name())\n",
    "my_tesla.battery.describe_battery()"
   ]
  },
  {
   "cell_type": "code",
   "execution_count": 14,
   "metadata": {},
   "outputs": [],
   "source": [
    "class Battery():\n",
    "    \"\"\"A simple attempt to model a battery for an electric car.\"\"\"\n",
    "\n",
    "    def __init__(self, battery_size=60):\n",
    "        \"\"\"Initialize the batteery's attributes.\"\"\"\n",
    "        self.battery_size = battery_size\n",
    "\n",
    "    def describe_battery(self):\n",
    "        \"\"\"Print a statement describing the battery size.\"\"\"\n",
    "        print(\"This car has a \" + str(self.battery_size) + \"-kWh battery.\")  \n",
    "        \n",
    "    def get_range(self):\n",
    "        \"\"\"Print a statement about the range this battery provides.\"\"\"\n",
    "        if self.battery_size == 60:\n",
    "            range = 140\n",
    "        elif self.battery_size == 85:\n",
    "            range = 185\n",
    "        else:\n",
    "            range = 200\n",
    "        message = \"This car can go approximately \" + str(range)\n",
    "        message += \" miles on a full charge.\"\n",
    "        print(message)\n",
    "    "
   ]
  },
  {
   "cell_type": "code",
   "execution_count": 15,
   "metadata": {},
   "outputs": [
    {
     "name": "stdout",
     "output_type": "stream",
     "text": [
      "2016 Tesla Model S\nThis car has a 60-kWh battery.\nThis car can go approximately 140 miles on a full charge.\n"
     ]
    }
   ],
   "source": [
    "my_tesla = ElectricCar('tesla', 'model s', 2016)\n",
    "print(my_tesla.get_descriptive_name())\n",
    "my_tesla.battery.describe_battery()\n",
    "my_tesla.battery.get_range()"
   ]
  },
  {
   "cell_type": "markdown",
   "metadata": {},
   "source": [
    "新增的方法 get_range()。"
   ]
  },
  {
   "cell_type": "markdown",
   "metadata": {},
   "source": [
    "3.6 模拟实物<br>\n",
    "模拟较复杂的物件（如电动汽车）时，需要解决一些有趣的问题。续航里程是电瓶的属性还\n",
    "是汽车的属性呢？如果我们只需描述一辆汽车，那么将方法 get_range() 放在 Battery 类中也许是合\n",
    "适的；但如果要描述一家汽车制造商的整个产品线，也许应该将方法 get_range() 移到 ElectricCar\n",
    "类中。在这种情况下， get_range() 依然根据电瓶容量来确定续航里程，但报告的是一款汽车的续\n",
    "航里程。我们也可以这样做：将方法 get_range() 还留在 Battery 类中，但向它传递一个参数，如\n",
    "car_model ；在这种情况下，方法 get_range() 将根据电瓶容量和汽车型号报告续航里程。"
   ]
  },
  {
   "cell_type": "markdown",
   "metadata": {},
   "source": [
    "这让你进入了程序员的另一个境界：解决上述问题时，你从较高的逻辑层面（而不是语法层\n",
    "面）考虑；你考虑的不是Python，而是如何使用代码来表示实物。到达这种境界后，你经常会发\n",
    "现，现实世界的建模方法并没有对错之分。有些方法的效率更高，但要找出效率最高的表示法，"
   ]
  },
  {
   "cell_type": "markdown",
   "metadata": {},
   "source": [
    "需要经过一定的实践。只要代码像你希望的那样运行，就说明你做得很好！即便你发现自己不得\n",
    "不多次尝试使用不同的方法来重写类，也不必气馁；要编写出高效、准确的代码，都得经过这样\n",
    "的过程。"
   ]
  },
  {
   "cell_type": "code",
   "execution_count": null,
   "metadata": {},
   "outputs": [],
   "source": []
  }
 ],
 "metadata": {
  "kernelspec": {
   "display_name": "Python 2",
   "language": "python",
   "name": "python2"
  },
  "language_info": {
   "codemirror_mode": {
    "name": "ipython",
    "version": 2
   },
   "file_extension": ".py",
   "mimetype": "text/x-python",
   "name": "python",
   "nbconvert_exporter": "python",
   "pygments_lexer": "ipython2",
   "version": "2.7.6"
  }
 },
 "nbformat": 4,
 "nbformat_minor": 0
}
