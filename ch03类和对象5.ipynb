{
 "cells": [
  {
   "cell_type": "markdown",
   "metadata": {
    "collapsed": true
   },
   "source": [
    "### 5.1 继承机制及其使用<br>\n",
    "继承是面向对象的三大特征之一，也是实现软件复用的重要手段。Python 的继承是多继承机制，即一个子类可以同时有多个直接父类。\n",
    "\n",
    "Python 子类继承父类的语法是在定义子类时，将多个父类放在子类之后的圆括号里。语法格式如下："
   ]
  },
  {
   "cell_type": "code",
   "execution_count": 2,
   "metadata": {},
   "outputs": [],
   "source": [
    "# class Subclass (SuperClass1, SuperClass2, ...):\n",
    "#     #类定义部分"
   ]
  },
  {
   "cell_type": "markdown",
   "metadata": {},
   "source": [
    "从上面的语法格式来看，定义子类的语法非常简单，只需在原来的类定义后增加圆括号，井在圆括号中添加多个父类，即可表明该子类继承了这些父类。\n",
    "\n",
    "如果在定义一个 Python 类时并未显式指定这个类的直接父类，则这个类默认继承 object 类。因此，object 类是所有类的父类，要么是其直接父类，要么是其间接父类。\n",
    "\n",
    "实现继承的类被称为子类，被继承的类被称为父类（也被称为基类、超类）。父类和子类的关系，是一般和特殊的关系。例如水果和苹果的关系，苹果继承了水果，苹果是水果的子类，则苹果是一种特殊的水果。\n",
    "\n",
    "由于子类是一种特殊的父类，因此父类包含的范围总比子类包含的范围要大，所以可以认为父类是大类，而子类是小类。\n",
    "\n",
    "从实际意义上看，子类是对父类的扩展，子类是一种特殊的父类。从这个意义上看，使用继承来描述子类和父类的关系是错误的，用扩展更恰当。因此，这样的说法更加准确：Apple 类扩展了 Fruit 类。"
   ]
  },
  {
   "cell_type": "markdown",
   "metadata": {},
   "source": [
    "下面程序示范了子类继承父类的特点。下面是 Fruit 类的代码："
   ]
  },
  {
   "cell_type": "code",
   "execution_count": 3,
   "metadata": {},
   "outputs": [],
   "source": [
    "class Fruit:\n",
    "    def info(self):\n",
    "        print(\"我是一个水果！重%g克\" % self.weight)\n",
    "class Food:\n",
    "    def taste(self):\n",
    "        print(\"不同食物的口感不同\")\n",
    "# 定义Apple类，继承了Fruit和Food类\n",
    "class Apple(Fruit, Food):\n",
    "    pass"
   ]
  },
  {
   "cell_type": "code",
   "execution_count": 4,
   "metadata": {},
   "outputs": [],
   "source": [
    "# 创建Apple对象\n",
    "a = Apple()\n",
    "a.weight = 5.6"
   ]
  },
  {
   "cell_type": "code",
   "execution_count": 5,
   "metadata": {},
   "outputs": [
    {
     "name": "stdout",
     "output_type": "stream",
     "text": [
      "我是一个水果！重5.6克\n"
     ]
    }
   ],
   "source": [
    "# 调用Apple对象的info()方法\n",
    "a.info()"
   ]
  },
  {
   "cell_type": "code",
   "execution_count": 6,
   "metadata": {},
   "outputs": [
    {
     "name": "stdout",
     "output_type": "stream",
     "text": [
      "不同食物的口感不同\n"
     ]
    }
   ],
   "source": [
    "# 调用Apple对象的taste()方法\n",
    "a.taste()"
   ]
  },
  {
   "cell_type": "markdown",
   "metadata": {},
   "source": [
    "### 5.2 关于Python的多继承<br>\n",
    "大部分面向对象的编程语言（除了 C++）都只支持单继承，而不支持多继承，这是由于多继承不仅增加了编程的复杂度，而且很容易导致一些莫名的错误。\n",
    "\n",
    "Python 虽然在语法上明确支持多继承，但通常推荐如果不是很有必要，则尽量不要使用多继承，而是使用单继承，这样可以保证编程思路更清晰，而且可以避免很多麻烦。\n",
    "\n",
    "当一个子类有多个直接父类时，该子类会继承得到所有父类的方法，这一点在前面示例中己经做了示范。现在的问题是，如果多个父类中包含了同名的方法，此时会发生什么呢？此时排在前面的父类中的方法会“遮蔽”排在后面的父类中的同名方法。例如如下代码："
   ]
  },
  {
   "cell_type": "code",
   "execution_count": 13,
   "metadata": {},
   "outputs": [],
   "source": [
    "class Item:\n",
    "    def info (self):\n",
    "        print(\"Item中方法:\", '这是一个商品')\n",
    "class Product:\n",
    "    def info (self):\n",
    "        print(\"Product中方法:\", '这是一个工业产品')\n"
   ]
  },
  {
   "cell_type": "code",
   "execution_count": 14,
   "metadata": {},
   "outputs": [
    {
     "name": "stdout",
     "output_type": "stream",
     "text": [
      "Item中方法: 这是一个商品\n"
     ]
    }
   ],
   "source": [
    "class Mouse(Item, Product): # ①\n",
    "    pass\n",
    "m = Mouse()\n",
    "m.info()"
   ]
  },
  {
   "cell_type": "markdown",
   "metadata": {},
   "source": [
    "让 Mouse 继承了 Item 类和 Product 类，由于 Item 排在前面，因此 Item 中定义的方法优先级更好，Python 会优先到 Item 父类中搜寻方法，一旦在 Item 父类中搜寻到目标方法，Python 就不会继续向下搜寻了。\n",
    "\n",
    "上面程序中 Item 和 Product 两个父类中都包含了 info() 方法，当 Mouse 子类对象调用 info() 方法时（子类中没有定义 info() 方法，因此 Python 会从父类中寻找 info() 方法），此时优先使用第一个父类 item 中的 info() 方法。"
   ]
  },
  {
   "cell_type": "code",
   "execution_count": 16,
   "metadata": {},
   "outputs": [
    {
     "name": "stdout",
     "output_type": "stream",
     "text": [
      "Product中方法: 这是一个工业产品\n"
     ]
    }
   ],
   "source": [
    "class Mouse(Product, Item):  # ①\n",
    "    pass\n",
    "\n",
    "\n",
    "m = Mouse()\n",
    "m.info()\n"
   ]
  },
  {
   "cell_type": "markdown",
   "metadata": {},
   "source": [
    "### 5.3 父类方法重写<br>\n",
    "子类扩展了父类，子类是一种特殊的父类。大部分时候，子类总是以父类为基础，额外增加新的方法。但有一种情况例外，子类需要重写父类的方法。\n",
    "\n",
    "例如，鸟类都包含了飞翔方法，其中驼鸟是一种特殊的鸟类，因此驼鸟应该是鸟的子类，它也将从鸟类获得飞翔方法，但这个飞翔方法明显不适合驼鸟，为此，驼鸟需要重写鸟类的方法。\n",
    "\n",
    "如下程序示范了子类重写父类的方法："
   ]
  },
  {
   "cell_type": "code",
   "execution_count": 17,
   "metadata": {},
   "outputs": [],
   "source": [
    "class Bird:\n",
    "    # Bird类的fly()方法\n",
    "    def fly(self):\n",
    "        print(\"我在天空里自由自在地飞翔...\")\n",
    "        \n",
    "class Ostrich(Bird):\n",
    "    # 重写Bird类的fly()方法\n",
    "    def fly(self):\n",
    "        print(\"我只能在地上奔跑...\")"
   ]
  },
  {
   "cell_type": "code",
   "execution_count": 18,
   "metadata": {},
   "outputs": [
    {
     "name": "stdout",
     "output_type": "stream",
     "text": [
      "我只能在地上奔跑...\n"
     ]
    }
   ],
   "source": [
    "# 创建Ostrich对象\n",
    "os = Ostrich()\n",
    "# 执行Ostrich对象的fly()方法，将输出\"我只能在地上奔跑...\"\n",
    "os.fly()"
   ]
  },
  {
   "cell_type": "markdown",
   "metadata": {},
   "source": [
    "这种子类包含与父类同名的方法的现象被称为方法重写（Override），也被称为方法覆盖。可以说子类重写了父类的方法，也可以说子类覆盖了父类的方法。"
   ]
  },
  {
   "cell_type": "markdown",
   "metadata": {},
   "source": [
    "### 5.4 使用未绑定方法调用被重写的方法<br>\n",
    "如果在子类中调用重写之后的方法，Python 总是会执行子类重写的方法，不会执行父类中被重写的方法。如果需要在子类中调用父类中被重写的实例方法，那该怎么办呢？\n",
    "\n",
    "别忘了，Python 类相当于类空间，因此 Python 类中的方法本质上相当于类空间内的函数。所以，即使是实例方法，Python 也允许通过类名调用。区别在于：在通过类名调用实例方法时，Python 不会为实例方法的第一个参数 self 自动绑定参数值，而是需要程序显式绑定第一个参数 self。这种机制被称为未绑定方法。\n",
    "\n",
    "通过使用未绑定方法即可在子类中再次调用父类中被重写的方法。例如如下程序："
   ]
  },
  {
   "cell_type": "code",
   "execution_count": 19,
   "metadata": {},
   "outputs": [],
   "source": [
    "class BaseClass:\n",
    "    def foo (self):\n",
    "        print('父类中定义的foo方法')\n",
    "        \n",
    "class SubClass(BaseClass):\n",
    "    # 重写父类的foo方法\n",
    "    def foo (self):\n",
    "        print('子类重写父类中的foo方法')\n",
    "    def bar (self):\n",
    "        print('执行bar方法')\n",
    "        # 直接执行foo方法，将会调用子类重写之后的foo()方法\n",
    "        self.foo()\n",
    "        # 使用类名调用实例方法（未绑定方法）调用父类被重写的方法\n",
    "        BaseClass.foo(self)"
   ]
  },
  {
   "cell_type": "code",
   "execution_count": 20,
   "metadata": {},
   "outputs": [
    {
     "name": "stdout",
     "output_type": "stream",
     "text": [
      "执行bar方法\n子类重写父类中的foo方法\n父类中定义的foo方法\n"
     ]
    }
   ],
   "source": [
    "sc = SubClass()\n",
    "sc.bar()"
   ]
  },
  {
   "cell_type": "markdown",
   "metadata": {},
   "source": [
    "上面程序中 SubClass 继承了 BaseClass 类，并重写了父类的 foo() 方法。接下来程序在 SubClass 类中定义了 bar() 方法，该方法的第 11 行代码直接通过 self 调用 foo() 方法，Python 将会执行子类重写之后的 foo() 方法；第 13 行代码通过未绑定方法显式调用 BaseClass 中的 foo 实例方法，井显式为第一个参数 self 绑定参数值，这就实现了调用父类中被重写的方法。"
   ]
  },
  {
   "cell_type": "markdown",
   "metadata": {},
   "source": [
    "### 5.5 super函数：调用父类的构造方法<br>\n",
    "Python 的子类也会继承得到父类的构造方法，如果子类有多个直接父类，那么排在前面的父类的构造方法会被优先使用。例如如下代码："
   ]
  },
  {
   "cell_type": "code",
   "execution_count": 48,
   "metadata": {},
   "outputs": [],
   "source": [
    "class Employee :\n",
    "    def __init__ (self, salary):\n",
    "        self.salary = salary\n",
    "    def work (self):\n",
    "        print('普通员工正在写代码，工资是:', self.salary)\n",
    "        \n",
    "class Customer:\n",
    "    def __init__ (self, favorite, address):\n",
    "        self.favorite = favorite\n",
    "        self.address = address\n",
    "    def info (self):\n",
    "        print('我是一个顾客，我的爱好是: %s,地址是%s' % (self.favorite, self.address))"
   ]
  },
  {
   "cell_type": "code",
   "execution_count": 49,
   "metadata": {},
   "outputs": [
    {
     "name": "stdout",
     "output_type": "stream",
     "text": [
      "普通员工正在写代码，工资是: 25000\n"
     ]
    }
   ],
   "source": [
    "# Manager继承了Employee、Customer\n",
    "class Manager (Employee, Customer):\n",
    "    pass\n",
    "\n",
    "m = Manager(25000)\n",
    "m.work()  #①"
   ]
  },
  {
   "cell_type": "code",
   "execution_count": 50,
   "metadata": {},
   "outputs": [
    {
     "ename": "AttributeError",
     "evalue": "'Manager' object has no attribute 'favorite'",
     "traceback": [
      "\u001b[1;31m---------------------------------------------------------------------------\u001b[0m",
      "\u001b[1;31mAttributeError\u001b[0m                            Traceback (most recent call last)",
      "\u001b[1;32m<ipython-input-50-00c123459052>\u001b[0m in \u001b[0;36m<module>\u001b[1;34m\u001b[0m\n\u001b[1;32m----> 1\u001b[1;33m \u001b[0mm\u001b[0m\u001b[1;33m.\u001b[0m\u001b[0minfo\u001b[0m\u001b[1;33m(\u001b[0m\u001b[1;33m)\u001b[0m\u001b[1;33m\u001b[0m\u001b[1;33m\u001b[0m\u001b[0m\n\u001b[0m",
      "\u001b[1;32m<ipython-input-48-4616f2c22e21>\u001b[0m in \u001b[0;36minfo\u001b[1;34m(self)\u001b[0m\n\u001b[0;32m     10\u001b[0m         \u001b[0mself\u001b[0m\u001b[1;33m.\u001b[0m\u001b[0maddress\u001b[0m \u001b[1;33m=\u001b[0m \u001b[0maddress\u001b[0m\u001b[1;33m\u001b[0m\u001b[1;33m\u001b[0m\u001b[0m\n\u001b[0;32m     11\u001b[0m     \u001b[1;32mdef\u001b[0m \u001b[0minfo\u001b[0m \u001b[1;33m(\u001b[0m\u001b[0mself\u001b[0m\u001b[1;33m)\u001b[0m\u001b[1;33m:\u001b[0m\u001b[1;33m\u001b[0m\u001b[1;33m\u001b[0m\u001b[0m\n\u001b[1;32m---> 12\u001b[1;33m         \u001b[0mprint\u001b[0m\u001b[1;33m(\u001b[0m\u001b[1;34m'我是一个顾客，我的爱好是: %s,地址是%s'\u001b[0m \u001b[1;33m%\u001b[0m \u001b[1;33m(\u001b[0m\u001b[0mself\u001b[0m\u001b[1;33m.\u001b[0m\u001b[0mfavorite\u001b[0m\u001b[1;33m,\u001b[0m \u001b[0mself\u001b[0m\u001b[1;33m.\u001b[0m\u001b[0maddress\u001b[0m\u001b[1;33m)\u001b[0m\u001b[1;33m)\u001b[0m\u001b[1;33m\u001b[0m\u001b[1;33m\u001b[0m\u001b[0m\n\u001b[0m",
      "\u001b[1;31mAttributeError\u001b[0m: 'Manager' object has no attribute 'favorite'"
     ],
     "output_type": "error"
    }
   ],
   "source": [
    "m.info()"
   ]
  },
  {
   "cell_type": "code",
   "execution_count": 51,
   "metadata": {},
   "outputs": [],
   "source": [
    "class Manager (Customer, Employee):\n",
    "    pass"
   ]
  },
  {
   "cell_type": "code",
   "execution_count": 52,
   "metadata": {},
   "outputs": [
    {
     "name": "stdout",
     "output_type": "stream",
     "text": [
      "我是一个顾客，我的爱好是: IT产品,地址是广州\n"
     ]
    }
   ],
   "source": [
    "m = Manager('IT产品', '广州')\n",
    "m.info()  #②"
   ]
  },
  {
   "cell_type": "code",
   "execution_count": 53,
   "metadata": {},
   "outputs": [
    {
     "ename": "TypeError",
     "evalue": "__init__() takes 2 positional arguments but 3 were given",
     "traceback": [
      "\u001b[1;31m---------------------------------------------------------------------------\u001b[0m",
      "\u001b[1;31mTypeError\u001b[0m                                 Traceback (most recent call last)",
      "\u001b[1;32m<ipython-input-53-8db72262183d>\u001b[0m in \u001b[0;36m<module>\u001b[1;34m\u001b[0m\n\u001b[0;32m      2\u001b[0m     \u001b[1;32mpass\u001b[0m\u001b[1;33m\u001b[0m\u001b[1;33m\u001b[0m\u001b[0m\n\u001b[0;32m      3\u001b[0m \u001b[1;33m\u001b[0m\u001b[0m\n\u001b[1;32m----> 4\u001b[1;33m \u001b[0mm\u001b[0m \u001b[1;33m=\u001b[0m \u001b[0mManager\u001b[0m\u001b[1;33m(\u001b[0m\u001b[1;34m'IT产品'\u001b[0m\u001b[1;33m,\u001b[0m \u001b[1;34m'广州'\u001b[0m\u001b[1;33m)\u001b[0m\u001b[1;33m\u001b[0m\u001b[1;33m\u001b[0m\u001b[0m\n\u001b[0m\u001b[0;32m      5\u001b[0m \u001b[0mm\u001b[0m\u001b[1;33m.\u001b[0m\u001b[0minfo\u001b[0m\u001b[1;33m(\u001b[0m\u001b[1;33m)\u001b[0m\u001b[1;33m\u001b[0m\u001b[1;33m\u001b[0m\u001b[0m\n",
      "\u001b[1;31mTypeError\u001b[0m: __init__() takes 2 positional arguments but 3 were given"
     ],
     "output_type": "error"
    }
   ],
   "source": [
    "class Manager (Employee, Customer):\n",
    "    pass\n",
    "\n",
    "m = Manager('IT产品', '广州')\n",
    "m.info() "
   ]
  },
  {
   "cell_type": "markdown",
   "metadata": {},
   "source": [
    "从上面的实验可以看出多继承的子类在构造方法方面的问题，为了让 Manager 能同时初始化两个父类中的实例变量，Manager 应该定义自己的构造方法，即重写父类的构造方法。Python 要求：如果子类重写了父类的构造方法，那么子类的构造方法必须调用父类的构造方法。"
   ]
  },
  {
   "cell_type": "markdown",
   "metadata": {},
   "source": [
    "子类的构造方法调用父类的构造方法有两种方式：<br>\n",
    "1)使用未绑定方法，这种方式很容易理解。因为构造方法也是实例方法，当然可以通过这种方式来调用。<br>\n",
    "2)使用 super() 函数调用父类的构造方法。"
   ]
  },
  {
   "cell_type": "markdown",
   "metadata": {},
   "source": [
    "super 其实是一个类，因此调用 super() 的本质就是调用 super 类的构造方法来创建 super 对象。\n",
    "\n",
    "使用 super() 构造方法最常用的做法就是不传入任何参数（这种做法与 super(type, obj) 的效果相同），然后通过 super 对象的方法既可调用父类的实例方法，也可调用父类的类方法。在调用父类的实例方法时，程序会完成第一个参数 self 的自动绑定，如上帮助信息中 ① 号信息所示。在调用类方法时，程序会完成第一个参数 cls 的自动绑定，如上面帮助信息中 ② 号信息所示。"
   ]
  },
  {
   "cell_type": "markdown",
   "metadata": {},
   "source": [
    "掌握了 super() 函数的用法之后，接下来可以将上面程序改为如下形式："
   ]
  },
  {
   "cell_type": "code",
   "execution_count": 84,
   "metadata": {},
   "outputs": [],
   "source": [
    "# Manager继承了Employee、Customer\n",
    "class Manager(Employee, Customer):\n",
    "    # 重写父类的构造方法\n",
    "    def __init__(self, salary, favorite, address):\n",
    "        print('--Manager的构造方法--')\n",
    "        # # 通过super()函数调用父类的构造方法,好像会报错\n",
    "        # super.__init__(salary)\n",
    "        # 与上一行代码的效果相同\n",
    "        Employee.__init__(self,salary)\n",
    "        # 使用未绑定方法调用父类的构造方法\n",
    "        Customer.__init__(self,favorite, address)\n"
   ]
  },
  {
   "cell_type": "code",
   "execution_count": 85,
   "metadata": {},
   "outputs": [
    {
     "name": "stdout",
     "output_type": "stream",
     "text": [
      "--Manager的构造方法--\n"
     ]
    }
   ],
   "source": [
    "# 创建Manager对象\n",
    "m = Manager(25000,'IT产品', '广州')\n"
   ]
  },
  {
   "cell_type": "code",
   "execution_count": 86,
   "metadata": {},
   "outputs": [
    {
     "name": "stdout",
     "output_type": "stream",
     "text": [
      "普通员工正在写代码，工资是: 25000\n"
     ]
    }
   ],
   "source": [
    "m.work()  #①\n"
   ]
  },
  {
   "cell_type": "code",
   "execution_count": 87,
   "metadata": {},
   "outputs": [
    {
     "name": "stdout",
     "output_type": "stream",
     "text": [
      "我是一个顾客，我的爱好是: IT产品,地址是广州\n"
     ]
    }
   ],
   "source": [
    "m.info()  #②"
   ]
  },
  {
   "cell_type": "markdown",
   "metadata": {},
   "source": [
    "### 6.1 __slots__：限制类实例动态添加属性和方法<br>\n",
    "前面介绍了为对象动态添加方法，但是所添加的方法只是对当前对象有效，如果希望为所有实例都添加方法，则可通过为类添加方法来实现。例如如下代码：\n"
   ]
  },
  {
   "cell_type": "code",
   "execution_count": 89,
   "metadata": {},
   "outputs": [],
   "source": [
    "class Cat:\n",
    "    def __init__(self, name):\n",
    "        self.name = name\n",
    "        \n",
    "def walk_func(self):\n",
    "    print('%s慢慢地走过一片草地' % self.name)"
   ]
  },
  {
   "cell_type": "code",
   "execution_count": 90,
   "metadata": {},
   "outputs": [],
   "source": [
    "d1 = Cat('Garfield')\n",
    "d2 = Cat('Kitty')"
   ]
  },
  {
   "cell_type": "code",
   "execution_count": 91,
   "metadata": {},
   "outputs": [],
   "source": [
    "# 为Cat动态添加walk()方法，该方法的第一个参数会自动绑定\n",
    "Cat.walk = walk_func  # ①"
   ]
  },
  {
   "cell_type": "code",
   "execution_count": 92,
   "metadata": {},
   "outputs": [
    {
     "name": "stdout",
     "output_type": "stream",
     "text": [
      "Garfield慢慢地走过一片草地\n"
     ]
    }
   ],
   "source": [
    "# d1、d2调用walk()方法\n",
    "d1.walk()\n"
   ]
  },
  {
   "cell_type": "code",
   "execution_count": 93,
   "metadata": {},
   "outputs": [
    {
     "name": "stdout",
     "output_type": "stream",
     "text": [
      "Kitty慢慢地走过一片草地\n"
     ]
    }
   ],
   "source": [
    "d2.walk()"
   ]
  },
  {
   "cell_type": "markdown",
   "metadata": {},
   "source": [
    "程序中 ① 号代码为 Cat 动态添加了 walk() 方法，为类动态添加方法时不需要使用 MethodType 进行包装，该函数的第一个参数会自动绑定。为 Cat 动态添加 walk() 方法之后，Cat 类的两个实例 d1、d2 都具有了 walk() 方法，因此上面程序中最后两行 d1、d2 都可调用 walk() 方法。\n",
    "\n",
    "Python 的这种动态性固然有其优势，但也给程序带来了一定的隐患，即程序定义好的类，完全有可能在后面被其他程序修改，这就带来了一些不确定性。如果程序要限制为某个类动态添加属性和方法，则可通过 __slots__ 属性来指定。"
   ]
  },
  {
   "cell_type": "markdown",
   "metadata": {},
   "source": [
    "__slots__ 属性的值是一个元组，该元组的所有元素列出了该类的实例允许动态添加的所有属性名和方法名（对于 Python 而言，方法相当于属性值为函数的属性）。例如如下程序："
   ]
  },
  {
   "cell_type": "code",
   "execution_count": 95,
   "metadata": {},
   "outputs": [],
   "source": [
    "class Dog:\n",
    "    __slots__ = ('walk', 'age', 'name')\n",
    "    def __init__(self, name):\n",
    "        self.name = name\n",
    "    def test(self):\n",
    "        print('预先定义的test方法')"
   ]
  },
  {
   "cell_type": "code",
   "execution_count": 96,
   "metadata": {},
   "outputs": [],
   "source": [
    "from types import MethodType\n",
    "\n",
    "d = Dog('Snoopy')\n",
    "# 只允许动态为实例添加walk、age、name这3个属性或方法\n",
    "d.walk = MethodType(lambda self: print('%s正在慢慢地走' % self.name), d)"
   ]
  },
  {
   "cell_type": "code",
   "execution_count": 98,
   "metadata": {},
   "outputs": [
    {
     "name": "stdout",
     "output_type": "stream",
     "text": [
      "Snoopy正在慢慢地走\n"
     ]
    }
   ],
   "source": [
    "d.age = 5\n",
    "d.walk()"
   ]
  },
  {
   "cell_type": "code",
   "execution_count": 99,
   "metadata": {},
   "outputs": [
    {
     "ename": "AttributeError",
     "evalue": "'Dog' object has no attribute 'foo'",
     "traceback": [
      "\u001b[1;31m---------------------------------------------------------------------------\u001b[0m",
      "\u001b[1;31mAttributeError\u001b[0m                            Traceback (most recent call last)",
      "\u001b[1;32m<ipython-input-99-b08ea83fbb60>\u001b[0m in \u001b[0;36m<module>\u001b[1;34m\u001b[0m\n\u001b[1;32m----> 1\u001b[1;33m \u001b[0md\u001b[0m\u001b[1;33m.\u001b[0m\u001b[0mfoo\u001b[0m \u001b[1;33m=\u001b[0m \u001b[1;36m30\u001b[0m \u001b[1;31m# AttributeError\u001b[0m\u001b[1;33m\u001b[0m\u001b[1;33m\u001b[0m\u001b[0m\n\u001b[0m",
      "\u001b[1;31mAttributeError\u001b[0m: 'Dog' object has no attribute 'foo'"
     ],
     "output_type": "error"
    }
   ],
   "source": [
    "d.foo = 30 # AttributeError"
   ]
  },
  {
   "cell_type": "markdown",
   "metadata": {},
   "source": [
    "上面程序中第 2 行代码定义了 __slots__=('walk','age', 'name')，这意味着程序只允许为 Dog 实例动态添加 walk、age、name 这三个属性或方法。因此上面程序中第 10 行、第 11 行代码为 Dog 对象动态添加 walk() 方法和 age 属性都是允许的。\n",
    "\n",
    "但如果程序尝试为 Dog 对象添加其他额外属性，程序就会引发 AttributeError 错误，如上面最后一行代码所示。"
   ]
  },
  {
   "cell_type": "markdown",
   "metadata": {},
   "source": [
    "需要说明的是，__slots__ 属性并不限制通过类来动态添加属性或方法，因此下面代码是合法的："
   ]
  },
  {
   "cell_type": "code",
   "execution_count": 100,
   "metadata": {},
   "outputs": [
    {
     "name": "stdout",
     "output_type": "stream",
     "text": [
      "abc\n"
     ]
    }
   ],
   "source": [
    "# __slots__属性并不限制通过类来动态添加方法\n",
    "Dog.bar = lambda self: print('abc') # AttributeError\n",
    "d.bar()"
   ]
  },
  {
   "cell_type": "code",
   "execution_count": 101,
   "metadata": {},
   "outputs": [
    {
     "data": {
      "text/plain": [
       "30"
      ]
     },
     "execution_count": 101,
     "metadata": {},
     "output_type": "execute_result"
    }
   ],
   "source": [
    "Dog.foo = 30\n",
    "d.foo"
   ]
  },
  {
   "cell_type": "markdown",
   "metadata": {},
   "source": [
    "下面代码通过 Dog 类动态添加了 bar() 方法，这样 Dog 对象就可以调用该 bar() 方法了。\n",
    "\n",
    "此外，__slots__ 属性指定的限制只对当前类的实例起作用，对该类派生出来的子类是不起作用的。例如如下代码："
   ]
  },
  {
   "cell_type": "code",
   "execution_count": 105,
   "metadata": {},
   "outputs": [],
   "source": [
    "class GunDog(Dog):\n",
    "    def __init__(self, name):\n",
    "        Dog.__init__(self,name)\n",
    "    pass\n"
   ]
  },
  {
   "cell_type": "code",
   "execution_count": 106,
   "metadata": {},
   "outputs": [],
   "source": [
    "gd = GunDog('Puppy')"
   ]
  },
  {
   "cell_type": "code",
   "execution_count": 107,
   "metadata": {},
   "outputs": [
    {
     "name": "stdout",
     "output_type": "stream",
     "text": [
      "99\n"
     ]
    }
   ],
   "source": [
    "# 完全可以为Gundog实例动态添加属性\n",
    "gd.speed = 99\n",
    "print(gd.speed)"
   ]
  },
  {
   "cell_type": "markdown",
   "metadata": {},
   "source": [
    "正如从上面代码所看到的，Dog 的子类 GunDog 的实例完全可以动态添加 speed 属性，这说明 __slots__ 属性指定的限制只对当前类起作用。\n",
    "\n",
    "如果要限制子类的实例动态添加属性和方法，则需要在子类中也定义 __slots__ 属性，这样，子类的实例允许动态添加属性和方法就是子类的 __slots__ 元组加上父类的 __slots__ 元组的和。"
   ]
  },
  {
   "cell_type": "markdown",
   "metadata": {},
   "source": [
    "### 6.2 type函数：动态创建类<br>\n",
    "前面己经提到使用 type() 函数可以查看变量的类型，但如果想使用 type() 直接查看某个类的类型呢？看如下程序："
   ]
  },
  {
   "cell_type": "code",
   "execution_count": 108,
   "metadata": {},
   "outputs": [
    {
     "name": "stdout",
     "output_type": "stream",
     "text": [
      "<class '__main__.Role'>\n<class 'type'>\n"
     ]
    }
   ],
   "source": [
    "class Role:\n",
    "    pass\n",
    "r = Role()\n",
    "# 查看变量r的类型\n",
    "print(type(r)) # <class '__main__.Role'>\n",
    "# 查看Role类本身的类型\n",
    "print(type(Role)) # <class 'type'>"
   ]
  },
  {
   "cell_type": "markdown",
   "metadata": {},
   "source": [
    "从上面的输出结果可以看到，Role 类本身的类型是 type。这句话有点拗口，怎样理解 Role 类的类型是 type?\n",
    "\n",
    "从 Python 解释器的角度来看，当程序使用 class 定义 Role 类时，也可理解为定义了一个特殊的对象（type 类的对象），并将该对象赋值给 Role 变量。因此，程序使用 class 定义的所有类都是 type 类的实例。\n",
    "\n",
    "实际上 Python 完全允许使用 type() 函数（相当于 type 类的构造器函数）来创建 type 对象，又由于 type 类的实例就是类，因此 Python 可以使用 type() 函数来动态创建类。例如如下程序："
   ]
  },
  {
   "cell_type": "code",
   "execution_count": 109,
   "metadata": {},
   "outputs": [],
   "source": [
    "def fn(self):\n",
    "    print('fn函数')\n",
    "# 使用type()定义Dog类\n",
    "Dog = type('Dog', (object,), dict(walk=fn, age=6))"
   ]
  },
  {
   "cell_type": "code",
   "execution_count": 110,
   "metadata": {},
   "outputs": [
    {
     "name": "stdout",
     "output_type": "stream",
     "text": [
      "<class '__main__.Dog'>\n<class 'type'>\n"
     ]
    }
   ],
   "source": [
    "# 创建Dog对象\n",
    "d = Dog()\n",
    "# 分别查看d、Dog的类型\n",
    "print(type(d))\n",
    "print(type(Dog))"
   ]
  },
  {
   "cell_type": "code",
   "execution_count": 111,
   "metadata": {},
   "outputs": [
    {
     "name": "stdout",
     "output_type": "stream",
     "text": [
      "fn函数\n6\n"
     ]
    }
   ],
   "source": [
    "d.walk()\n",
    "print(Dog.age)"
   ]
  },
  {
   "cell_type": "markdown",
   "metadata": {},
   "source": [
    "上面第 4 行代码使用 type() 定义了一个 Dog 类。在使用 type() 定义类时可指定三个参数：<br>\n",
    "参数一：创建的类名。<br>\n",
    "参数二：该类继承的父类集合。由于 Python 支持多继承，因此此处使用元组指定它的多个父类。即使实际只有一个父类，也需要使用元组语法（必须要多一个逗号）。<br>\n",
    "参数三：该字典对象为该类绑定的类变量和方法。其中字典的 key 就是类变量或方法名，如果字典的 value 是普通值，那就代表类变量；如果字典的 value 是函数，则代表方法。<br>\n",
    "\n",
    "由此可见，第 4 行代码定义了一个 Dog 类，该类继承了 object 类，还为该类定义了一个 walk() 方法和一个 age 类变量。"
   ]
  },
  {
   "cell_type": "markdown",
   "metadata": {},
   "source": [
    "从上面的输出结果可以看出，使用 type() 函数定义的类与直接使用 class 定义的类井没有任何区别。事实上，Python 解释器在执行使用 class 定义的类时，其实依然是使用 type() 函数来创建类的。因此，无论通过哪种方式定义类，程序最终都是创建一个 type 的实例。"
   ]
  },
  {
   "cell_type": "markdown",
   "metadata": {},
   "source": [
    "### 6.3 metaclass详解<br>\n",
    "如果希望创建某一批类全部具有某种特征，则可通过 metaclass 来实现。使用 metaclass 可以在创建类时动态修改类定义。\n",
    "\n",
    "为了使用 metaclass 动态修改类定义，程序需要先定义 metaclass, metaclass 应该继承 type 类，并重写 __new__() 方法。\n",
    "\n",
    "下面程序定义了一个 metaclass 类："
   ]
  },
  {
   "cell_type": "code",
   "execution_count": 112,
   "metadata": {},
   "outputs": [],
   "source": [
    "# 定义ItemMetaClass，继承type\n",
    "class ItemMetaClass(type):\n",
    "    # cls代表动态修改的类\n",
    "    # name代表动态修改的类名\n",
    "    # bases代表被动态修改的类的所有父类\n",
    "    # attr代表被动态修改的类的所有属性、方法组成的字典\n",
    "    def __new__(cls, name, bases, attrs):\n",
    "        # 动态为该类添加一个cal_price方法\n",
    "        attrs['cal_price'] = lambda self: self.price * self.discount\n",
    "        return type.__new__(cls, name, bases, attrs)"
   ]
  },
  {
   "cell_type": "markdown",
   "metadata": {},
   "source": [
    "上面程序定义了一个 ItemMetaClass 类，该类继承了 type 类，并重写了 __new__ 方法，在重写该方法时为目标类动态添加了一个 cal_price 方法。\n",
    "\n",
    "metaclass 类的 __new__ 方法的作用是：当程序使用 class 定义新类时，如果指定了 metaclass，那么 metaclass 的 __new__ 方法就会被自动执行。\n",
    "\n",
    "例如，如下程序使用 metaclass 定义了两个类："
   ]
  },
  {
   "cell_type": "code",
   "execution_count": 113,
   "metadata": {},
   "outputs": [],
   "source": [
    "# 定义Book类\n",
    "class Book(metaclass=ItemMetaClass):\n",
    "    __slots__ = ('name', 'price', '_discount')\n",
    "    def __init__(self, name, price):\n",
    "        self.name = name\n",
    "        self.price = price\n",
    "    @property\n",
    "    def discount(self):\n",
    "        return self._discount\n",
    "    @discount.setter\n",
    "    def discount(self, discount):\n",
    "        self._discount = discount\n",
    "# 定义cellPhone类\n",
    "class CellPhone(metaclass=ItemMetaClass):\n",
    "    __slots__ = ('price', '_discount' )\n",
    "    def __init__(self, price):\n",
    "        self.price = price\n",
    "    @property\n",
    "    def discount(self):\n",
    "        return self._discount\n",
    "    @discount.setter\n",
    "    def discount(self, discount):\n",
    "        self._discount = discount"
   ]
  },
  {
   "cell_type": "markdown",
   "metadata": {},
   "source": [
    "上面程序定义了 Book 和 CellPhone 两个类，在定义这两个类时都指定了 metaclass 信息，因此当 Python 解释器在创建这两个类时，ItemMetaClass 的 __new__ 方法就会被调用，用于修改这两个类。\n",
    "\n",
    "ItemMetaClass 类的 __new__ 方法会为目标类动态添加 cal_price 方法，因此，虽然在定义 Book、CellPhone 类时没有定义 cal_price() 方法，但这两个类依然有 cal_price() 方法。如下程序测试了 Book、CellPhone 两个类的 cal_price() 方法： "
   ]
  },
  {
   "cell_type": "code",
   "execution_count": 114,
   "metadata": {},
   "outputs": [
    {
     "name": "stdout",
     "output_type": "stream",
     "text": [
      "67.64\n"
     ]
    }
   ],
   "source": [
    "b = Book(\"Python基础教程\", 89)\n",
    "b.discount = 0.76\n",
    "# 创建Book对象的cal_price()方法\n",
    "print(b.cal_price())"
   ]
  },
  {
   "cell_type": "code",
   "execution_count": 115,
   "metadata": {},
   "outputs": [
    {
     "name": "stdout",
     "output_type": "stream",
     "text": [
      "2039.1499999999999\n"
     ]
    }
   ],
   "source": [
    "cp = CellPhone(2399)\n",
    "cp.discount = 0.85\n",
    "# 创建CellPhone对象的cal_price()方法\n",
    "print(cp.cal_price())"
   ]
  },
  {
   "cell_type": "markdown",
   "metadata": {},
   "source": [
    "从上面的运行结果来看，通过使用 metaclass 可以动态修改程序中的一批类，对它们集中进行某种修改。这个功能在开发一些基础性框架时非常有用，程序可以通过使用 metaclass 为某一批需要具有通用功能的类添加方法。"
   ]
  },
  {
   "cell_type": "code",
   "execution_count": null,
   "metadata": {},
   "outputs": [],
   "source": []
  }
 ],
 "metadata": {
  "kernelspec": {
   "display_name": "Python 2",
   "language": "python",
   "name": "python2"
  },
  "language_info": {
   "codemirror_mode": {
    "name": "ipython",
    "version": 2
   },
   "file_extension": ".py",
   "mimetype": "text/x-python",
   "name": "python",
   "nbconvert_exporter": "python",
   "pygments_lexer": "ipython2",
   "version": "2.7.6"
  }
 },
 "nbformat": 4,
 "nbformat_minor": 0
}
