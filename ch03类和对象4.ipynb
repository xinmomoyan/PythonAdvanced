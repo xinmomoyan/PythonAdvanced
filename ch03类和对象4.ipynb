{
 "cells": [
  {
   "cell_type": "markdown",
   "metadata": {},
   "source": [
    "### 1.1定义类和对象 <br>\n",
    "在面向对象的程序设计过程中有两个重要概念：类（class）和对象（object，也被称为实例，instance），其中类是某一批对象的抽象，可以把类理解成某种概念；对象才是一个具体存在的实体。"
   ]
  },
  {
   "cell_type": "markdown",
   "metadata": {},
   "source": [
    "Python 类所包含的最重要的两个成员就是变量和方法，其中类变量属于类本身，用于定义该类本身所包含的状态数据：而实例变量则属于该类的对象，用于定义对象所包含的状态数据：方法则用于定义该类的对象的行为或功能实现。"
   ]
  },
  {
   "cell_type": "markdown",
   "metadata": {},
   "source": [
    "Python 是一门动态语言，因此它的类所包含的类变量可以动态增加或删除（程序在类体中为新变量赋值就是增加类变量），程序也可在任何地方为已有的类增加变量；程序可通过 del 语句删除己有类的类变量。"
   ]
  },
  {
   "cell_type": "markdown",
   "metadata": {},
   "source": [
    "下面程序将定义一个 Person 类："
   ]
  },
  {
   "cell_type": "code",
   "execution_count": 2,
   "metadata": {},
   "outputs": [],
   "source": [
    "class Person:\n",
    "    '这是一个学习Python定义的一个Person类'\n",
    "    # 下面定义了一个类变量\n",
    "    hair = 'black'\n",
    "    def __init__(self, name='Charlie', age=8):\n",
    "        # 下面为Person对象增加2个实例变量\n",
    "        self.name = name\n",
    "        self.age = age\n",
    "    # 下面定义了一个say方法\n",
    "    def say(self, content):\n",
    "        print(content)\n"
   ]
  },
  {
   "cell_type": "markdown",
   "metadata": {},
   "source": [
    "上面的 Person 类代码定义了一个构造方法，该构造方法只是方法名比较特殊：__init__，该方法的第一个参数同样是 self，被绑定到构造方法初始化的对象。\n",
    "\n",
    "与函数类似的是，Python 也允许为类定义说明文档，该文档同样被放在类声明之后、类体之前，如上面程序中第二行的字符串所示。\n"
   ]
  },
  {
   "cell_type": "markdown",
   "metadata": {},
   "source": [
    "### 1.2 类对象的创建和使用<br>\n",
    "创建对象的根本途径是构造方法，调用某个类的构造方法即可创建这个类的对象，Python 无须使用 new 调用构造方法。\n",
    "\n"
   ]
  },
  {
   "cell_type": "markdown",
   "metadata": {},
   "source": [
    "如下代码示范了调用 Person 类的构造方法："
   ]
  },
  {
   "cell_type": "code",
   "execution_count": 3,
   "metadata": {},
   "outputs": [],
   "source": [
    "# 调用Person类的构造方法，返回一个Person对象\n",
    "# 将该Person对象赋给p变量\n",
    "p = Person()"
   ]
  },
  {
   "cell_type": "markdown",
   "metadata": {},
   "source": [
    "创建对象之后，接下来即可使用该对象了。Python 的对象大致有如下作用：<br>\n",
    "1.操作对象的实例变量（包括访问实例变量的值、添加实例变量、删除实例变量）。<br>\n",
    "2.调用对象的方法。<br>"
   ]
  },
  {
   "cell_type": "markdown",
   "metadata": {},
   "source": [
    "下面代码通过 Person 对象来调用 Person 的实例和方法："
   ]
  },
  {
   "cell_type": "code",
   "execution_count": 4,
   "metadata": {},
   "outputs": [
    {
     "name": "stdout",
     "output_type": "stream",
     "text": [
      "Charlie 8\n"
     ]
    }
   ],
   "source": [
    "# 输出p的name、age实例变量\n",
    "print(p.name, p.age)  # Charlie 8"
   ]
  },
  {
   "cell_type": "code",
   "execution_count": 5,
   "metadata": {},
   "outputs": [],
   "source": [
    "# 访问p的name实例变量，直接为该实例变量赋值\n",
    "p.name = '李刚'"
   ]
  },
  {
   "cell_type": "code",
   "execution_count": 6,
   "metadata": {},
   "outputs": [
    {
     "name": "stdout",
     "output_type": "stream",
     "text": [
      "Python语言很简单，学习很容易！\n"
     ]
    }
   ],
   "source": [
    "# 调用p的say()方法，声明say()方法时定义了2个形参\n",
    "# 但第一个形参（self）是自动绑定的，因此调用该方法只需为第二个形参指定一个值\n",
    "p.say('Python语言很简单，学习很容易！')"
   ]
  },
  {
   "cell_type": "code",
   "execution_count": 7,
   "metadata": {},
   "outputs": [
    {
     "name": "stdout",
     "output_type": "stream",
     "text": [
      "李刚 8\n"
     ]
    }
   ],
   "source": [
    "# 再次输出p的name、age实例变量\n",
    "print(p.name, p.age)  # 李刚 8"
   ]
  },
  {
   "cell_type": "markdown",
   "metadata": {},
   "source": [
    "### 1.3 对象动态添加变量和方法<br>\n",
    "Python 是动态语言，当然也允许为对象动态增加方法。比如上面程序中在定义 Person 类时只定义了一个 say() 方法，但程序完全可以为 p 对象动态增加方法。\n",
    "\n",
    "但需要说明的是，为 p 对象动态增加的方法，Python 不会自动将调用者自动绑定到第一个参数（即使将第一个参数命名为 self 也没用）。例如如下代码："
   ]
  },
  {
   "cell_type": "code",
   "execution_count": 8,
   "metadata": {},
   "outputs": [
    {
     "name": "stdout",
     "output_type": "stream",
     "text": [
      "---info函数--- <__main__.Person object at 0x000000000E4D6550>\n--lambda表达式-- <__main__.Person object at 0x000000000E4D6550>\n"
     ]
    }
   ],
   "source": [
    "# 先定义一个函数\n",
    "def info(self):\n",
    "    print(\"---info函数---\", self)\n",
    "# 使用info对p的foo方法赋值（动态绑定方法）\n",
    "p.foo = info\n",
    "# Python不会自动将调用者绑定到第一个参数，\n",
    "# 因此程序需要手动将调用者绑定为第一个参数\n",
    "p.foo(p)  # ①\n",
    "# 使用lambda表达式为p对象的bar方法赋值（动态绑定方法）\n",
    "p.bar = lambda self: print('--lambda表达式--', self)\n",
    "p.bar(p) # ②"
   ]
  },
  {
   "cell_type": "markdown",
   "metadata": {},
   "source": [
    "上面的第 5 行和第 11 行代码分别使用函数、lambda 表达式为 p 对象动态增加了方法，但对于动态增加的方法，Python 不会自动将方法调用者绑定到它们的第一个参数，因此程序必须手动为第一个参数传入参数值，如上面程序中 ① 号、② 号代码所示。"
   ]
  },
  {
   "cell_type": "markdown",
   "metadata": {},
   "source": [
    "如果希望动态增加的方法也能自动绑定到第一个参数，则可借助于 types 模块下的 MethodType 进行包装。例如如下代码："
   ]
  },
  {
   "cell_type": "code",
   "execution_count": 9,
   "metadata": {},
   "outputs": [
    {
     "name": "stdout",
     "output_type": "stream",
     "text": [
      "我是一个人，信息为：生活在别处\n"
     ]
    }
   ],
   "source": [
    "def intro_func(self, content):\n",
    "    print(\"我是一个人，信息为：%s\" % content)\n",
    "# 导入MethodType\n",
    "from types import MethodType\n",
    "# 使用MethodType对intro_func进行包装，将该函数的第一个参数绑定为p\n",
    "p.intro = MethodType(intro_func, p)\n",
    "# 第一个参数已经绑定了，无需传入\n",
    "p.intro(\"生活在别处\")"
   ]
  },
  {
   "cell_type": "markdown",
   "metadata": {},
   "source": [
    "正如从上面代码所看到的，通过 MethodType 包装 intr_func 函数之后（包装时指定了将该函数的第一个参数绑定为 p），为 p 对象动态增加的 intro() 方法的第一个参数己经绑定，因此程序通过 p 调用 intro() 方法时无须传入第一个参数，就像定义类时己经定义了 intro() 方法一样。"
   ]
  },
  {
   "cell_type": "markdown",
   "metadata": {},
   "source": [
    "### 1.4 实例方法和自动绑定self<br>\n",
    "对于在类体中定义的实例方法，Python 会自动绑定方法的第一个参数（通常建议将该参数命名为 self），第一个参数总是指向调用该方法的对象。根据第一个参数出现位置的不同，第一个参数所绑定的对象略有区别：<br>\n",
    "1.在构造方法中引用该构造方法正在初始化的对象。<br>\n",
    "2.在普通实例方法中引用调用该方法的对象。"
   ]
  },
  {
   "cell_type": "markdown",
   "metadata": {},
   "source": [
    "由于实例方法（包括构造方法）的第一个 self 参数会自动绑定，因此程序在调用普通实例方法、构造方法时不需要为第一个参数传值。"
   ]
  },
  {
   "cell_type": "markdown",
   "metadata": {},
   "source": [
    "self 参数（自动绑定的第一个参数）最大的作用就是引用当前方法的调用者，比如前面介绍的在构造方法中通过 self 为该对象增加实例变量。也可以在一个实例方法中访问该类的另一个实例方法或变量。假设定义了一个 Dog 类，这个 Dog 对象的 run() 方法需要调用它的 jump() 方法，此时就可通过 self 参数作为 jump() 方法的调用者。"
   ]
  },
  {
   "cell_type": "markdown",
   "metadata": {},
   "source": [
    "方法的第一个参数所代表的对象是不确定的，但它的类型是确定的，即它所代表的只能是当前类的实例；只有当这个方法被调用时，它所代表的对象才被确定下来谁在调用这个方法，方法的第一个参数就代表谁。\n"
   ]
  },
  {
   "cell_type": "markdown",
   "metadata": {},
   "source": [
    "例如定义如下 Dog 类："
   ]
  },
  {
   "cell_type": "code",
   "execution_count": 10,
   "metadata": {},
   "outputs": [],
   "source": [
    "class Dog:\n",
    "    # 定义一个jump()方法\n",
    "    def jump(self):\n",
    "        print(\"正在执行jump方法\")\n",
    "    # 定义一个run()方法，run()方法需要借助jump()方法\n",
    "    def run(self):\n",
    "        # 使用self参数引用调用run()方法的对象\n",
    "        self.jump()\n",
    "        print(\"正在执行run方法\")"
   ]
  },
  {
   "cell_type": "markdown",
   "metadata": {},
   "source": [
    "上面代码的 run() 方法中的 self 代表该方法的调用者：谁在调用 run() 方法，那么 self 就代表谁。因此该方法表示：当一个 Dog 对象调用 run() 方法时，run() 方法需要依赖它自己的 jump() 方法。"
   ]
  },
  {
   "cell_type": "code",
   "execution_count": 13,
   "metadata": {},
   "outputs": [
    {
     "name": "stdout",
     "output_type": "stream",
     "text": [
      "正在执行jump方法\n正在执行run方法\n"
     ]
    }
   ],
   "source": [
    "dog = Dog()\n",
    "dog.run()"
   ]
  },
  {
   "cell_type": "markdown",
   "metadata": {},
   "source": [
    "在现实世界里，对象的一个方法依赖另一个方法的情形很常见，例如，吃饭方法依赖拿筷子方法，写程序方法依赖敲键盘方法，这种依赖都是同一个对象的两个方法之间的依赖。"
   ]
  },
  {
   "cell_type": "markdown",
   "metadata": {},
   "source": [
    "当 Python 对象的一个方法调用另一个方法时，不可以省略 self。也就是说，将上面的 run()方法改为如下形式是不正确的："
   ]
  },
  {
   "cell_type": "code",
   "execution_count": 15,
   "metadata": {},
   "outputs": [],
   "source": [
    "class Dog:\n",
    "    # 定义一个jump()方法\n",
    "    def jump(self):\n",
    "        print(\"正在执行jump方法\")\n",
    "    # 定义一个run()方法，run()方法需要借助jump()方法\n",
    "    def run(self):\n",
    "        #省略self，下面代码会报错\n",
    "        jump()\n",
    "        print(\"正在执行run方法\")"
   ]
  },
  {
   "cell_type": "code",
   "execution_count": 18,
   "metadata": {},
   "outputs": [
    {
     "ename": "NameError",
     "evalue": "name 'jump' is not defined",
     "traceback": [
      "\u001b[1;31m---------------------------------------------------------------------------\u001b[0m",
      "\u001b[1;31mNameError\u001b[0m                                 Traceback (most recent call last)",
      "\u001b[1;32m<ipython-input-18-32eefd92790f>\u001b[0m in \u001b[0;36m<module>\u001b[1;34m\u001b[0m\n\u001b[0;32m      1\u001b[0m \u001b[0mdog\u001b[0m \u001b[1;33m=\u001b[0m \u001b[0mDog\u001b[0m\u001b[1;33m(\u001b[0m\u001b[1;33m)\u001b[0m\u001b[1;33m\u001b[0m\u001b[1;33m\u001b[0m\u001b[0m\n\u001b[1;32m----> 2\u001b[1;33m \u001b[0mdog\u001b[0m\u001b[1;33m.\u001b[0m\u001b[0mrun\u001b[0m\u001b[1;33m(\u001b[0m\u001b[1;33m)\u001b[0m\u001b[1;33m\u001b[0m\u001b[1;33m\u001b[0m\u001b[0m\n\u001b[0m",
      "\u001b[1;32m<ipython-input-15-433379e31833>\u001b[0m in \u001b[0;36mrun\u001b[1;34m(self)\u001b[0m\n\u001b[0;32m      6\u001b[0m     \u001b[1;32mdef\u001b[0m \u001b[0mrun\u001b[0m\u001b[1;33m(\u001b[0m\u001b[0mself\u001b[0m\u001b[1;33m)\u001b[0m\u001b[1;33m:\u001b[0m\u001b[1;33m\u001b[0m\u001b[1;33m\u001b[0m\u001b[0m\n\u001b[0;32m      7\u001b[0m         \u001b[1;31m#省略self，下面代码会报错\u001b[0m\u001b[1;33m\u001b[0m\u001b[1;33m\u001b[0m\u001b[1;33m\u001b[0m\u001b[0m\n\u001b[1;32m----> 8\u001b[1;33m         \u001b[0mjump\u001b[0m\u001b[1;33m(\u001b[0m\u001b[1;33m)\u001b[0m\u001b[1;33m\u001b[0m\u001b[1;33m\u001b[0m\u001b[0m\n\u001b[0m\u001b[0;32m      9\u001b[0m         \u001b[0mprint\u001b[0m\u001b[1;33m(\u001b[0m\u001b[1;34m\"正在执行run方法\"\u001b[0m\u001b[1;33m)\u001b[0m\u001b[1;33m\u001b[0m\u001b[1;33m\u001b[0m\u001b[0m\n",
      "\u001b[1;31mNameError\u001b[0m: name 'jump' is not defined"
     ],
     "output_type": "error"
    }
   ],
   "source": [
    "dog = Dog()\n",
    "dog.run()"
   ]
  },
  {
   "cell_type": "markdown",
   "metadata": {},
   "source": [
    "### 2.1 类调用实例方法<br>\n",
    "在 Python 的类体中定义的方法默认都是实例方法，也示范了通过对象来调用实例方法。\n",
    "\n",
    "现在问题来了，如果使用类调用实例方法，那么该方法的第一个参数（self）怎么自动绑定呢？例如如下程序："
   ]
  },
  {
   "cell_type": "code",
   "execution_count": 20,
   "metadata": {},
   "outputs": [],
   "source": [
    "class User:\n",
    "    def walk (self):\n",
    "        print(self, '正在慢慢地走')\n"
   ]
  },
  {
   "cell_type": "code",
   "execution_count": 21,
   "metadata": {},
   "outputs": [
    {
     "ename": "TypeError",
     "evalue": "walk() missing 1 required positional argument: 'self'",
     "traceback": [
      "\u001b[1;31m---------------------------------------------------------------------------\u001b[0m",
      "\u001b[1;31mTypeError\u001b[0m                                 Traceback (most recent call last)",
      "\u001b[1;32m<ipython-input-21-3bd0a0240043>\u001b[0m in \u001b[0;36m<module>\u001b[1;34m\u001b[0m\n\u001b[0;32m      1\u001b[0m \u001b[1;31m# 通过类调用实例方法\u001b[0m\u001b[1;33m\u001b[0m\u001b[1;33m\u001b[0m\u001b[1;33m\u001b[0m\u001b[0m\n\u001b[1;32m----> 2\u001b[1;33m \u001b[0mUser\u001b[0m\u001b[1;33m.\u001b[0m\u001b[0mwalk\u001b[0m\u001b[1;33m(\u001b[0m\u001b[1;33m)\u001b[0m\u001b[1;33m\u001b[0m\u001b[1;33m\u001b[0m\u001b[0m\n\u001b[0m",
      "\u001b[1;31mTypeError\u001b[0m: walk() missing 1 required positional argument: 'self'"
     ],
     "output_type": "error"
    }
   ],
   "source": [
    "# 通过类调用实例方法\n",
    "User.walk()"
   ]
  },
  {
   "cell_type": "markdown",
   "metadata": {},
   "source": [
    "请看程序最后一行代码，调用 walk() 方法缺少传入的 self 参数，所以导致程序出错。这说明在使用类调用实例方法时，Python 不会自动为第一个参数绑定调用者。实际上也没法自动绑定，因此实例方法的调用者是类本身，而不是对象。"
   ]
  },
  {
   "cell_type": "markdown",
   "metadata": {},
   "source": [
    "如果程序依然希望使用类来调用实例方法，则必须手动为方法的第一个参数传入参数值。例如，将上面的粗体字代码改为如下形式："
   ]
  },
  {
   "cell_type": "code",
   "execution_count": 22,
   "metadata": {},
   "outputs": [
    {
     "name": "stdout",
     "output_type": "stream",
     "text": [
      "<__main__.User object at 0x000000000E4ED1D0> 正在慢慢地走\n"
     ]
    }
   ],
   "source": [
    "u = User()\n",
    "# 显式为方法的第一个参数绑定参数值\n",
    "User.walk(u)"
   ]
  },
  {
   "cell_type": "markdown",
   "metadata": {},
   "source": [
    "此代码显式地为 walk() 方法的第一个参数绑定了参数值，这样的调用效果完全等同于执行 u.walk()。"
   ]
  },
  {
   "cell_type": "markdown",
   "metadata": {},
   "source": [
    "实际上，当通过 User 类调用 walk() 实例方法时，Python 只要求手动为第一个参数绑定参数值，并不要求必须绑定 User 对象，因此也可使用如下代码进行调用："
   ]
  },
  {
   "cell_type": "code",
   "execution_count": 23,
   "metadata": {},
   "outputs": [
    {
     "name": "stdout",
     "output_type": "stream",
     "text": [
      "fkit 正在慢慢地走\n"
     ]
    }
   ],
   "source": [
    "# 显式为方法的第一个参数绑定fkit字符串参数值\n",
    "User.walk('fkit')"
   ]
  },
  {
   "cell_type": "markdown",
   "metadata": {},
   "source": [
    "总结:<br>\n",
    "Python 的类可以调用实例方法，但使用类调用实例方法时，Python 不会自动为方法的第一个参数 self 绑定参数值；程序必须显式地为第一个参数 self 传入方法调用者。这种调用方式被称为“未绑定方法”。"
   ]
  },
  {
   "cell_type": "markdown",
   "metadata": {},
   "source": [
    "### 2.2 静态方法和类方法的区别和应用<br>\n",
    "实际上，Python 完全支持定义类方法，甚至支持定义静态方法。Python 的类方法和静态方法很相似，它们都推荐使用类来调用（其实也可使用对象来调用）。"
   ]
  },
  {
   "cell_type": "markdown",
   "metadata": {},
   "source": [
    "类方法和静态方法的区别在于，Python会自动绑定类方法的第一个参数，类方法的第一个参数（通常建议参数名为 cls）会自动绑定到类本身；但对于静态方法则不会自动绑定。"
   ]
  },
  {
   "cell_type": "markdown",
   "metadata": {},
   "source": [
    "使用 @classmethod 修饰的方法就是类方法；使用 @staticmethod 修饰的方法就是静态方法。"
   ]
  },
  {
   "cell_type": "markdown",
   "metadata": {},
   "source": [
    "下面代码示范了定义类方法和静态方法："
   ]
  },
  {
   "cell_type": "code",
   "execution_count": 24,
   "metadata": {},
   "outputs": [],
   "source": [
    "class Bird:\n",
    "    # classmethod修饰的方法是类方法\n",
    "    @classmethod\n",
    "    def fly (cls):\n",
    "        print('类方法fly: ', cls)\n",
    "    # staticmethod修饰的方法是静态方法\n",
    "    @staticmethod\n",
    "    def info (p):\n",
    "        print('静态方法info: ', p)"
   ]
  },
  {
   "cell_type": "code",
   "execution_count": 25,
   "metadata": {},
   "outputs": [
    {
     "name": "stdout",
     "output_type": "stream",
     "text": [
      "类方法fly:  <class '__main__.Bird'>\n"
     ]
    }
   ],
   "source": [
    "# 调用类方法，Bird类会自动绑定到第一个参数\n",
    "Bird.fly()  #①"
   ]
  },
  {
   "cell_type": "code",
   "execution_count": 26,
   "metadata": {},
   "outputs": [
    {
     "name": "stdout",
     "output_type": "stream",
     "text": [
      "静态方法info:  crazyit\n"
     ]
    }
   ],
   "source": [
    "# 调用静态方法，不会自动绑定，因此程序必须手动绑定第一个参数\n",
    "Bird.info('crazyit')"
   ]
  },
  {
   "cell_type": "code",
   "execution_count": 27,
   "metadata": {},
   "outputs": [],
   "source": [
    "# 创建Bird对象\n",
    "b = Bird()"
   ]
  },
  {
   "cell_type": "code",
   "execution_count": 28,
   "metadata": {},
   "outputs": [
    {
     "name": "stdout",
     "output_type": "stream",
     "text": [
      "类方法fly:  <class '__main__.Bird'>\n"
     ]
    }
   ],
   "source": [
    "# 使用对象调用fly()类方法，其实依然还是使用类调用，\n",
    "# 因此第一个参数依然被自动绑定到Bird类\n",
    "b.fly()  #②"
   ]
  },
  {
   "cell_type": "code",
   "execution_count": 29,
   "metadata": {},
   "outputs": [
    {
     "name": "stdout",
     "output_type": "stream",
     "text": [
      "静态方法info:  fkit\n"
     ]
    }
   ],
   "source": [
    "# 使用对象调用info()静态方法，其实依然还是使用类调用，\n",
    "# 因此程序必须为第一个参数执行绑定\n",
    "b.info('fkit')"
   ]
  },
  {
   "cell_type": "markdown",
   "metadata": {},
   "source": [
    "使用 @classmethod 修饰的方法是类方法，该类方法定义了一个 cls 参数，该参数会被自动绑定到 Bird 类本身，不管程序是使用类还是对象调用该方法，Python 始终都会将类方法的第一个参数绑定到类本身，如 ① 号、② 号代码的执行效果。"
   ]
  },
  {
   "cell_type": "markdown",
   "metadata": {},
   "source": [
    "上面程序还使用 @staticmethod 定义了一个静态方法，程序同样既可使用类调用静态方法，也可使用对象调用静态方法，不管用哪种方式调用，Python 都不会为静态方法执行自动绑定。"
   ]
  },
  {
   "cell_type": "markdown",
   "metadata": {},
   "source": [
    "在使用 Python 编程时，一般不需要使用类方法或静态方法，程序完全可以使用函数来代替类方法或静态方法。但是在特殊的场景（比如使用工厂模式）下，类方法或静态方法也是不错的选择。"
   ]
  },
  {
   "cell_type": "markdown",
   "metadata": {},
   "source": [
    "###2.3 @函数装饰器及用法<br>\n",
    "前面介绍的 @staticmethod 和 @classmethod 的本质就是函数装饰器，其中 staticmethod 和 classmethod 都是 Python 内置的函数。"
   ]
  },
  {
   "cell_type": "markdown",
   "metadata": {},
   "source": [
    "使用 @ 符号引用已有的函数（比如 @staticmethod、@classmethod）后，可用于修饰其他函数，装饰被修饰的函数。那么我们是否可以开发自定义的函数装饰器呢？"
   ]
  },
  {
   "cell_type": "markdown",
   "metadata": {},
   "source": [
    "答案是肯定的。当程序使用“＠函数”（比如函数 A）装饰另一个函数（比如函数 B）时，实际上完成如下两步：<br>\n",
    "1.将被修饰的函数（函数 B）作为参数传给 @ 符号引用的函数（函数 A）。<br>\n",
    "2.将函数 B 替换（装饰）成第 1 步的返回值。"
   ]
  },
  {
   "cell_type": "markdown",
   "metadata": {},
   "source": [
    "从上面介绍不难看出，被“@函数”修饰的函数不再是原来的函数，而是被替换成一个新的东西。\n",
    "\n",
    "为了让大家厘清函数装饰器的作用，下面看一个非常简单的示例："
   ]
  },
  {
   "cell_type": "code",
   "execution_count": 31,
   "metadata": {},
   "outputs": [
    {
     "name": "stdout",
     "output_type": "stream",
     "text": [
      "A\nB\nfkit\n"
     ]
    }
   ],
   "source": [
    "def funA(fn):\n",
    "    print('A')\n",
    "    fn() # 执行传入的fn参数\n",
    "    return 'fkit'\n",
    "'''\n",
    "下面装饰效果相当于：funA(funB)，\n",
    "funB将会替换（装饰）成该语句的返回值；\n",
    "由于funA()函数返回fkit，因此funB就是fkit\n",
    "'''\n",
    "@funA\n",
    "def funB():\n",
    "    print('B')\n",
    "print(funB) # fkit"
   ]
  },
  {
   "cell_type": "markdown",
   "metadata": {},
   "source": [
    "上面程序使用 @funA 修饰 funB，这意味着程序要完成两步操作：<br>\n",
    "1.将 funB 作为 funA() 的参数，也就是上面代码中 @funA 相当于执行 funA(funB)。<br>\n",
    "2.将 funB 替换成上一步执行的结果，funA() 执行完成后返回 fkit，因此 funB 就不再是函数，而是被替换成一个字符串。"
   ]
  },
  {
   "cell_type": "markdown",
   "metadata": {},
   "source": [
    "通过这个例子，相信读者对函数装饰器的执行关系己经有了一个较为清晰的认识，但读者可能会产生另一个疑问：这个函数装饰器导致被修饰的函数变成了字符串，那么函数装饰器有什么用？\n",
    "\n",
    "别忘记了，被修饰的函数总是被替换成 @ 符号所引用的函数的返回值，因此被修饰的函数会变成什么，完全由于 @ 符号所引用的函数的返回值决定，换句话说，如果 @ 符号所引用的函数的返回值是函数，那么被修饰的函数在替换之后还是函数。\n",
    "\n",
    "下面程序示范了更复杂的函数装饰器："
   ]
  },
  {
   "cell_type": "code",
   "execution_count": 32,
   "metadata": {},
   "outputs": [],
   "source": [
    "def foo(fn):\n",
    "    # 定义一个嵌套函数\n",
    "    def bar(*args):\n",
    "        print(\"===1===\", args)\n",
    "        n = args[0]\n",
    "        print(\"===2===\", n * (n - 1))\n",
    "        # 查看传给foo函数的fn函数\n",
    "        print(fn.__name__)\n",
    "        fn(n * (n - 1))\n",
    "        print(\"*\" * 15)\n",
    "        return fn(n * (n - 1))\n",
    "    return bar\n"
   ]
  },
  {
   "cell_type": "code",
   "execution_count": 33,
   "metadata": {},
   "outputs": [
    {
     "name": "stdout",
     "output_type": "stream",
     "text": [
      "<function foo.<locals>.bar at 0x000000000E584F28>\n"
     ]
    }
   ],
   "source": [
    "'''\n",
    "下面装饰效果相当于：foo(my_test)，\n",
    "my_test将会替换（装饰）成该语句的返回值；\n",
    "由于foo()函数返回bar函数，因此funB就是bar\n",
    "'''\n",
    "@foo\n",
    "def my_test(a):\n",
    "    print(\"==my_test函数==\", a)\n",
    "# 打印my_test函数，将看到实际上是bar函数\n",
    "print(my_test) # <function foo.<locals>.bar at 0x00000000021FABF8>"
   ]
  },
  {
   "cell_type": "code",
   "execution_count": 34,
   "metadata": {},
   "outputs": [
    {
     "name": "stdout",
     "output_type": "stream",
     "text": [
      "===1=== (10,)\n===2=== 90\nmy_test\n==my_test函数== 90\n***************\n==my_test函数== 90\n"
     ]
    }
   ],
   "source": [
    "# 下面代码看上去是调用my_test()，其实是调用bar()函数\n",
    "my_test(10)"
   ]
  },
  {
   "cell_type": "code",
   "execution_count": 35,
   "metadata": {},
   "outputs": [
    {
     "name": "stdout",
     "output_type": "stream",
     "text": [
      "===1=== (6, 5)\n===2=== 30\nmy_test\n==my_test函数== 30\n***************\n==my_test函数== 30\n"
     ]
    }
   ],
   "source": [
    "my_test(6, 5)"
   ]
  },
  {
   "cell_type": "markdown",
   "metadata": {},
   "source": [
    "上面程序定义了一个装饰器函数 foo，该函数执行完成后并不是返回普通值，而是返回 bar 函数（这是关键），这意味着被该 @foo 修饰的函数最终都会被替换成 bar 函数。\n",
    "\n",
    "上面程序使用 @foo 修饰 my_test() 函数，因此程序同样会执行 foo(my_test)，并将 my_test 替换成 foo() 函数的返回值：bar 函数。所以，上面程序第二行粗体字代码在打印 my_test 函数时，实际上输出的是 bar 函数，这说明 my_test 已经被替换成 bar 函数。接下来程序两次调用 my_test() 函数，实际上就是调用 bar() 函数。"
   ]
  },
  {
   "cell_type": "markdown",
   "metadata": {},
   "source": [
    "通过 @ 符号来修饰函数是 Python 的一个非常实用的功能，它既可以在被修饰函数的前面添加一些额外的处理逻辑（比如权限检查），也可以在被修饰函数的后面添加一些额外的处理逻辑（比如记录日志），还可以在目标方法抛出异常时进行一些修复操作……这种改变不需要修改被修饰函数的代码，只要增加一个修饰即可。\n",
    "\n",
    "上面介绍的这种在被修饰函数之前、之后、抛出异常后增加某种处理逻辑的方式，就是其他编程语言中的 AOP(Aspect Orient Progiuning，面向切面编程）。\n",
    "\n",
    "下面例子示范了如何通过函数装饰器为函数添加权限检查的功能。程序代码如下："
   ]
  },
  {
   "cell_type": "code",
   "execution_count": 36,
   "metadata": {},
   "outputs": [
    {
     "name": "stdout",
     "output_type": "stream",
     "text": [
      "----模拟执行权限检查----\n执行test函数,参数a: 20, 参数b: 15\n"
     ]
    }
   ],
   "source": [
    "def auth(fn):\n",
    "    def auth_fn(*args):\n",
    "        # 用一条语句模拟执行权限检查\n",
    "        print(\"----模拟执行权限检查----\")\n",
    "        # 回调要装饰的目标函数\n",
    "        fn(*args)\n",
    "    return auth_fn\n",
    "@auth\n",
    "def test(a, b):\n",
    "    print(\"执行test函数,参数a: %s, 参数b: %s\" % (a, b))\n",
    "# 调用test()函数,其实是调用装饰后返回的auth_fn函数\n",
    "test(20, 15)"
   ]
  },
  {
   "cell_type": "markdown",
   "metadata": {},
   "source": [
    "上面程序使用 @auth 修饰了 test() 函数，这会使得 test() 函数被替换成 auth() 函数所返回的 auth_fn 函数，而 auth_fn 函数的执行流程是：<br>\n",
    "1.先执行权限检查；<br>\n",
    "2.回调被修饰的目标函数。简单来说，auth_fn 函数就为被修饰函数添加了一个权限检查的功能。"
   ]
  },
  {
   "cell_type": "markdown",
   "metadata": {},
   "source": [
    "### 2.4 类命名空间<br>\n",
    "再次重申，Python 的类就像命名空间。Python 程序默认处于全局命名空间内，类体则处于类命名空间内，Python 允许在全局范围内放置可执行代码，当 Python 执行该程序时，这些代码就会获得执行的机会。类似地，Python 同样允许在类范围内放置可执行代码，当 Python 执行该类定义肘，这些代码同样会获得执行的机会。"
   ]
  },
  {
   "cell_type": "markdown",
   "metadata": {},
   "source": [
    "例如，如下程序测试了类命名空间："
   ]
  },
  {
   "cell_type": "code",
   "execution_count": 37,
   "metadata": {},
   "outputs": [
    {
     "name": "stdout",
     "output_type": "stream",
     "text": [
      "正在定义Item类\n偶数: 0\n奇数: 1\n偶数: 2\n奇数: 3\n偶数: 4\n奇数: 5\n偶数: 6\n奇数: 7\n偶数: 8\n奇数: 9\n"
     ]
    }
   ],
   "source": [
    "class Item:\n",
    "    # 直接在类空间中放置执行性质代码\n",
    "    print('正在定义Item类')\n",
    "    for i in range(10):\n",
    "        if i % 2 == 0 :\n",
    "            print('偶数:', i)\n",
    "        else:\n",
    "            print('奇数:', i)"
   ]
  },
  {
   "cell_type": "markdown",
   "metadata": {},
   "source": [
    "正如从上面代码所看到的，程序直接在 Item 类体中放置普通的输出语句、循环语句、分支语句，这都是合法的。当程序执行 Item 类时，Item 类命名空间中的这些代码都会被执行。\n",
    "\n",
    "从执行效果来看，这些可执行代码被放在 Python 类命名空间与全局空间并没有太大的区别。确实如此，这是因为程序并没有定义“成员”（变量或函数），这些代码执行之后就完了，不会留下什么。\n",
    "\n",
    "但下面代码就有区别。下面代码示范了在全局空间和类命名空间内分别定义 lambda 表达式："
   ]
  },
  {
   "cell_type": "code",
   "execution_count": 38,
   "metadata": {},
   "outputs": [
    {
     "name": "stdout",
     "output_type": "stream",
     "text": [
      "执行lambda表达式，p参数:  fkit\n执行lambda表达式，p参数:  <__main__.Category object at 0x000000000E58ED68>\n"
     ]
    }
   ],
   "source": [
    "global_fn = lambda p: print('执行lambda表达式，p参数: ', p)\n",
    "class Category:\n",
    "    cate_fn = lambda p: print('执行lambda表达式，p参数: ', p)\n",
    "# 调用全局范围内的global_fn，为参数p传入参数值\n",
    "global_fn('fkit')  # ①\n",
    "c = Category()\n",
    "# 调用类命名空间内的cate_fn，Python自动绑定第一个参数\n",
    "c.cate_fn()  # ②"
   ]
  },
  {
   "cell_type": "markdown",
   "metadata": {},
   "source": [
    "上面程序分别在全局空间、类命名空间内定义了两个 lambda 表达式，在全局空间内定义的 lambda 表达式就相当于一个普通函数，因此程序使用调用函数的方式来调用该 lambda 表达式，并显式地为第一个参数绑定参数值，如上面程序中 ① 号代码所示。\n",
    "\n",
    "对于在类命名空间内定义的 lambda 表达式，则相当于在该类命名空间中定义了一个函数，这个函数就变成了实例方法，因此程序必须使用调用方法的方式来调用该 lambda 表达式，Python 同样会为该方法的第二个参数（相当于 self 参数）绑定参数值，如上面程序中 ② 号代码所示。"
   ]
  },
  {
   "cell_type": "markdown",
   "metadata": {},
   "source": [
    "### 3.1 类变量和实例变量<br>\n",
    "在类体内定义的变量，默认属于类本身。如果把类当成类命名空间，那么该类变量其实就是定义在类命名空间内的变量，在类命名空间内定义的变量就属于类变量，Python 可以使用类来读取、修改类变量。\n",
    "\n",
    "例如，下面代码定义了一个 Address 类，并为该类定义了多个类变量："
   ]
  },
  {
   "cell_type": "code",
   "execution_count": 39,
   "metadata": {},
   "outputs": [],
   "source": [
    "class Address :\n",
    "    detail = '广州'\n",
    "    post_code = '510660'\n",
    "    def info (self):\n",
    "        # 尝试直接访问类变量\n",
    "        #print(detail) # 报错\n",
    "        # 通过类来访问类变量\n",
    "        print(Address.detail) # 输出 广州\n",
    "        print(Address.post_code) # 输出 510660"
   ]
  },
  {
   "cell_type": "code",
   "execution_count": 40,
   "metadata": {},
   "outputs": [
    {
     "data": {
      "text/plain": [
       "'广州'"
      ]
     },
     "execution_count": 40,
     "metadata": {},
     "output_type": "execute_result"
    }
   ],
   "source": [
    "# 通过类来访问Address类的类变量\n",
    "Address.detail"
   ]
  },
  {
   "cell_type": "code",
   "execution_count": 41,
   "metadata": {},
   "outputs": [
    {
     "name": "stdout",
     "output_type": "stream",
     "text": [
      "广州\n510660\n"
     ]
    }
   ],
   "source": [
    "addr = Address()\n",
    "addr.info()"
   ]
  },
  {
   "cell_type": "code",
   "execution_count": 42,
   "metadata": {},
   "outputs": [
    {
     "name": "stdout",
     "output_type": "stream",
     "text": [
      "佛山\n460110\n"
     ]
    }
   ],
   "source": [
    "# 修改Address类的类变量\n",
    "Address.detail = '佛山'\n",
    "Address.post_code = '460110'\n",
    "addr.info()"
   ]
  },
  {
   "cell_type": "markdown",
   "metadata": {},
   "source": [
    "该程序中，第二、三行代码为 Address 定义了两个类变量。\n",
    "\n",
    "对于类变量而言，它们就是属于在类命名空间内定义的变量，因此程序不能直接访问这些变量，必须使用类名来调用类变量。不管是在全局范围内还是函数内访问这些类变量，都必须使用类名进行访问。\n",
    "\n",
    "当程序第一次调用 Address 对象的 info() 方法输出两个类变量时，将会输出这两个类变量的初始值。接下来程序通过 Address 类修改了两个类变量的值，因此当程序第二次通过 info() 方法输出两个类变量时，将会输出这两个类变量修改之后的值。"
   ]
  },
  {
   "cell_type": "markdown",
   "metadata": {},
   "source": [
    "实际上，Python 完全允许使用对象来访问该对象所属类的类变量（当然还是推荐使用类访问类变量）。例如如下程序："
   ]
  },
  {
   "cell_type": "code",
   "execution_count": 44,
   "metadata": {},
   "outputs": [
    {
     "name": "stdout",
     "output_type": "stream",
     "text": [
      "鼠标\n2016-06-16\ninfo方法中:  鼠标\ninfo方法中:  2016-06-16\n"
     ]
    }
   ],
   "source": [
    "class Record:\n",
    "    # 定义两个类变量\n",
    "    item = '鼠标'\n",
    "    date = '2016-06-16'\n",
    "    def info (self):\n",
    "        print('info方法中: ', self.item)\n",
    "        print('info方法中: ', self.date)\n",
    "rc = Record()\n",
    "print(rc.item) # '鼠标'\n",
    "print(rc.date) # '2016-06-16'\n",
    "rc.info()"
   ]
  },
  {
   "cell_type": "markdown",
   "metadata": {},
   "source": [
    "上面程序的 Record 中定义了两个类变量，接下来程序完全可以使用 Record 对象来访问这两个类变量。\n",
    "\n",
    "在上面程序的 Record 类的 info() 方法中，程序使用 self 访问 Record 类的类变量，此时 self 代表 info() 方法的调用者，也就是 Record 对象，因此这是合法的。\n",
    "\n",
    "在主程序代码区，程序创建了 Record 对象，并通过对象调用 Record 对象的 item、date 类变量，这也是合法的。\n",
    "\n",
    "实际上，程序通过对象访问类变量，其本质还是通过类名在访问类变量。"
   ]
  },
  {
   "cell_type": "markdown",
   "metadata": {},
   "source": [
    "由于通过对象访问类变量的本质还是通过类名在访问，因此如果类变量发生了改变，当程序访问这些类变量时也会读到修改之后的值。例如为程序增加如下代码："
   ]
  },
  {
   "cell_type": "code",
   "execution_count": 45,
   "metadata": {},
   "outputs": [
    {
     "name": "stdout",
     "output_type": "stream",
     "text": [
      "info方法中:  键盘\ninfo方法中:  2016-08-18\n"
     ]
    }
   ],
   "source": [
    "# 修改Record类的两个类变量\n",
    "Record.item = '键盘'\n",
    "Record.date = '2016-08-18'\n",
    "# 调用info()方法\n",
    "rc.info()"
   ]
  },
  {
   "cell_type": "markdown",
   "metadata": {},
   "source": [
    "从上面的输出结果可以看到，通过实例访问类变量的本质依然是通过类名在访问。\n",
    "\n",
    "需要说明的是，Python 允许通过对象访问类变量，但如果程序通过对象尝试对类变量赋值，此时性质就变了，Python 是动态语言，赋值语句往往意味着定义新变量。\n",
    "\n",
    "因此，如果程序通过对象对类变量赋值，其实不是对“类变量赋值”，而是定义新的实例变量。例如如下程序："
   ]
  },
  {
   "cell_type": "code",
   "execution_count": 46,
   "metadata": {},
   "outputs": [],
   "source": [
    "class Inventory:\n",
    "    # 定义两个类变量\n",
    "    item = '鼠标'\n",
    "    quantity = 2000\n",
    "    # 定义实例方法\n",
    "    def change(self, item, quantity):\n",
    "        # 下面赋值语句不是对类变量赋值，而是定义新的实例变量\n",
    "        self.item = item\n",
    "        self.quantity = quantity"
   ]
  },
  {
   "cell_type": "code",
   "execution_count": 48,
   "metadata": {},
   "outputs": [
    {
     "name": "stdout",
     "output_type": "stream",
     "text": [
      "显示器\n500\n"
     ]
    }
   ],
   "source": [
    "# 创建Inventory对象\n",
    "iv = Inventory()\n",
    "iv.change('显示器', 500)\n",
    "# 访问iv的item和quantity实例变量\n",
    "print(iv.item) # 显示器\n",
    "print(iv.quantity) # 500"
   ]
  },
  {
   "cell_type": "code",
   "execution_count": 49,
   "metadata": {},
   "outputs": [
    {
     "name": "stdout",
     "output_type": "stream",
     "text": [
      "鼠标\n2000\n"
     ]
    }
   ],
   "source": [
    "# 访问Inventory的item和quantity类变量\n",
    "print(Inventory.item) # 鼠标\n",
    "print(Inventory.quantity) # 2000"
   ]
  },
  {
   "cell_type": "markdown",
   "metadata": {},
   "source": [
    "上面程序中的第 8、9 行代码通过实例对 item、quantity 变量赋值，看上去很像是对类变量赋值，但实际上不是，而是重新定义了两个实例变量（如果第一次调用该方法）。\n",
    "\n",
    "上面程序在调用 Inventory 对象的 change() 方法之后，访问 Inventory 对象的 item、quantity 变量，由于该对象本身己有这两个实例变量，因此程序将会输出该对象的实例变量的值；接下来程序通过 Inventory 访问它的 item、quantity 两个类变量，此时才是真的访问类变量。\n"
   ]
  },
  {
   "cell_type": "markdown",
   "metadata": {},
   "source": [
    "如果程序通过类修改了两个类变量的值，程序中 Inventory 的实例变量的值也不会受到任何影响。例如如下代码："
   ]
  },
  {
   "cell_type": "code",
   "execution_count": 50,
   "metadata": {},
   "outputs": [
    {
     "name": "stdout",
     "output_type": "stream",
     "text": [
      "显示器\n500\n"
     ]
    }
   ],
   "source": [
    "Inventory.item = '类变量item'\n",
    "Inventory.quantity = '类变量quantity'\n",
    "# 访问iv的item和quantity实例变量\n",
    "print(iv.item)\n",
    "print(iv.quantity)"
   ]
  },
  {
   "cell_type": "markdown",
   "metadata": {},
   "source": [
    "上面程序开始就修改了 Inventory 类中两个类变量的值，但这种修改对 Inventory 对象的实例变量没有任何影响。\n",
    "\n",
    "同样，如果程序对一个对象的实例变量进行了修改，这种修改也不会影响类变量和其他对象的实例变量。例如如下代码："
   ]
  },
  {
   "cell_type": "code",
   "execution_count": 51,
   "metadata": {},
   "outputs": [
    {
     "name": "stdout",
     "output_type": "stream",
     "text": [
      "类变量item\n类变量quantity\n"
     ]
    }
   ],
   "source": [
    "iv.item = '实例变量item'\n",
    "iv.quantity = '实例变量quantity'\n",
    "print(Inventory.item)\n",
    "print(Inventory.quantity)"
   ]
  },
  {
   "cell_type": "markdown",
   "metadata": {},
   "source": [
    "### 3.2 property函数：定义属性<br>\n",
    "如果为 Python 类定义了 getter、setter 等访问器方法，则可使用 property() 函数将它们定义成属性（相当于实例变量）。"
   ]
  },
  {
   "cell_type": "code",
   "execution_count": 55,
   "metadata": {},
   "outputs": [
    {
     "data": {
      "text/plain": [
       "<property at 0xe5a9458>"
      ]
     },
     "execution_count": 55,
     "metadata": {},
     "output_type": "execute_result"
    }
   ],
   "source": [
    "property(fget=None, fset=None, fdel=None, doc=None)"
   ]
  },
  {
   "cell_type": "markdown",
   "metadata": {},
   "source": [
    "从上面的语法格式可以看出，在使用 property() 函数时，可传入 4 个参数，分别代表 getter 方法、setter 方法、del 方法和 doc，其中 doc 是一个文档字符串，用于说明该属性。\n",
    "\n",
    "当然，开发者调用 property 也可传入 0 个（既不能读，也不能写的属性）、1 个（只读属性）、2 个（读写属性）、3 个（读写属性，也可删除）和 4 个（读写属性，也可删除，包含文档说明）参数。\n",
    "\n",
    "例如，如下程序定义了一个 Rectangle 类，该类使用 property() 函数定义了一个 size 属性："
   ]
  },
  {
   "cell_type": "code",
   "execution_count": 56,
   "metadata": {},
   "outputs": [],
   "source": [
    "class Rectangle:\n",
    "    # 定义构造方法\n",
    "    def __init__(self, width, height):\n",
    "        self.width = width\n",
    "        self.height = height\n",
    "    # 定义setsize()函数\n",
    "    def setsize (self , size):\n",
    "        self.width, self.height = size\n",
    "    # 定义getsize()函数\n",
    "    def getsize (self):\n",
    "        return self.width, self.height\n",
    "     # 定义getsize()函数\n",
    "    def delsize (self):\n",
    "        self.width, self.height = 0, 0 \n",
    "    # 使用property定义属性\n",
    "    size = property(getsize, setsize, delsize, '用于描述矩形大小的属性')"
   ]
  },
  {
   "cell_type": "code",
   "execution_count": 57,
   "metadata": {},
   "outputs": [
    {
     "name": "stdout",
     "output_type": "stream",
     "text": [
      "用于描述矩形大小的属性\n"
     ]
    }
   ],
   "source": [
    "# 访问size属性的说明文档\n",
    "print(Rectangle.size.__doc__)"
   ]
  },
  {
   "cell_type": "code",
   "execution_count": 58,
   "metadata": {},
   "outputs": [
    {
     "name": "stdout",
     "output_type": "stream",
     "text": [
      "Help on property:\n\n    用于描述矩形大小的属性\n\n"
     ]
    }
   ],
   "source": [
    "# 通过内置的help()函数查看Rectangle.size的说明文档\n",
    "help(Rectangle.size)"
   ]
  },
  {
   "cell_type": "code",
   "execution_count": 59,
   "metadata": {},
   "outputs": [
    {
     "name": "stdout",
     "output_type": "stream",
     "text": [
      "(4, 3)\n"
     ]
    }
   ],
   "source": [
    "rect = Rectangle(4, 3)\n",
    "# 访问rect的size属性\n",
    "print(rect.size) # (4, 3)"
   ]
  },
  {
   "cell_type": "code",
   "execution_count": 60,
   "metadata": {},
   "outputs": [
    {
     "name": "stdout",
     "output_type": "stream",
     "text": [
      "9\n7\n"
     ]
    }
   ],
   "source": [
    "# 对rect的size属性赋值\n",
    "rect.size = 9, 7\n",
    "# 访问rect的width、height实例变量\n",
    "print(rect.width) # 9\n",
    "print(rect.height) # 7"
   ]
  },
  {
   "cell_type": "code",
   "execution_count": 61,
   "metadata": {},
   "outputs": [
    {
     "name": "stdout",
     "output_type": "stream",
     "text": [
      "0\n0\n"
     ]
    }
   ],
   "source": [
    "# 删除rect的size属性\n",
    "del rect.size\n",
    "# 访问rect的width、height实例变量\n",
    "print(rect.width) # 0\n",
    "print(rect.height) # 0"
   ]
  },
  {
   "cell_type": "markdown",
   "metadata": {},
   "source": [
    "程序中，使用 property() 函数定义了一个 size 属性，在定义该属性时一共传入了 4 个参数，这意味着该属性可读、可写、可删除，也有说明文档。所以，该程序尝试对 Rectangle 对象的 size 属性进行读、写、删除操作，其实这种读、写、删除操作分别被委托给 getsize()、setsize() 和 delsize() 方法来实现。"
   ]
  },
  {
   "cell_type": "markdown",
   "metadata": {},
   "source": [
    "在使用 property() 函数定义属性时，也可根据需要只传入少量的参数。例如，如下代码使用 property() 函数定义了一个读写属性，该属性不能删除："
   ]
  },
  {
   "cell_type": "code",
   "execution_count": 62,
   "metadata": {},
   "outputs": [],
   "source": [
    "class User :\n",
    "    def __init__ (self, first, last):\n",
    "        self.first = first\n",
    "        self.last = last\n",
    "    def getfullname(self):\n",
    "        return self.first + ',' + self.last\n",
    "    def setfullname(self, fullname):\n",
    "        first_last = fullname.rsplit(',');\n",
    "        self.first = first_last[0]\n",
    "        self.last = first_last[1]\n",
    "    # 使用property()函数定义fullname属性，只传入2个参数\n",
    "    # 该属性是一个读写属性，但不能删除\n",
    "    fullname = property(getfullname, setfullname)"
   ]
  },
  {
   "cell_type": "code",
   "execution_count": 63,
   "metadata": {},
   "outputs": [
    {
     "name": "stdout",
     "output_type": "stream",
     "text": [
      "悟空,孙\n"
     ]
    }
   ],
   "source": [
    "u = User('悟空', '孙')\n",
    "# 访问fullname属性\n",
    "print(u.fullname)\n"
   ]
  },
  {
   "cell_type": "code",
   "execution_count": 64,
   "metadata": {},
   "outputs": [
    {
     "name": "stdout",
     "output_type": "stream",
     "text": [
      "八戒\n朱\n"
     ]
    }
   ],
   "source": [
    "# 对fullname属性赋值\n",
    "u.fullname = '八戒,朱'\n",
    "print(u.first)\n",
    "print(u.last)"
   ]
  },
  {
   "cell_type": "markdown",
   "metadata": {},
   "source": [
    "此程序中使用 property() 定义了 fullname 属性，该程序使用 property() 函数时只传入两个参数，分别作为 getter 和 setter方法，因此该属性是一个读写属性，不能删除。"
   ]
  },
  {
   "cell_type": "markdown",
   "metadata": {},
   "source": [
    "在某些编程语言中，类似于这种 property 合成的属性被称为计算属性。这种属性并不真正存储任何状态，它的值其实是通过某种算法计算得到的。当程序对该属性赋值时，被赋的值也会被存储到其他实例变量中。\n",
    "\n",
    "还可使用 @property 装饰器来修饰方法，使之成为属性。例如如下程序："
   ]
  },
  {
   "cell_type": "code",
   "execution_count": 65,
   "metadata": {},
   "outputs": [],
   "source": [
    "class Cell:\n",
    "    # 使用@property修饰方法，相当于为该属性设置getter方法\n",
    "    @property\n",
    "    def state(self):\n",
    "        return self._state\n",
    "    # 为state属性设置setter方法\n",
    "    @state.setter\n",
    "    def state(self, value):\n",
    "        if 'alive' in value.lower():\n",
    "            self._state = 'alive'\n",
    "        else:\n",
    "            self._state = 'dead'\n",
    "    # 为is_dead属性设置getter方法\n",
    "    # 只有getter方法属性是只读属性\n",
    "    @property\n",
    "    def is_dead(self):\n",
    "        return not self._state.lower() == 'alive'\n"
   ]
  },
  {
   "cell_type": "code",
   "execution_count": 66,
   "metadata": {},
   "outputs": [
    {
     "name": "stdout",
     "output_type": "stream",
     "text": [
      "alive\nFalse\n"
     ]
    }
   ],
   "source": [
    "c = Cell()\n",
    "# 修改state属性\n",
    "c.state = 'Alive'\n",
    "# 访问state属性\n",
    "print(c.state)\n",
    "# 访问is_dead属性\n",
    "print(c.is_dead)"
   ]
  },
  {
   "cell_type": "markdown",
   "metadata": {},
   "source": [
    "上面程序中第 3 行代码使用 @property 修饰了 state() 方法，这样就使得该方法变成了 state 属性的 getter 方法。如果只有该方法，那么 state 属性只是一个只读属性。\n",
    "\n",
    "当程序使用 @property 修饰了 state 属性之后，又多出一个 @state.setter 装饰器，该装饰器用于修饰 state 属性的 setter 方法，如上面程序中第 7 行代码所示。这样 state 属性就有了 getter 和 setter 方法，state 属性就变成了读写属性。\n",
    "\n",
    "程序中第 15 行代码使用 @property 修饰了 is_dead 方法，该方法就会变成 is_dead 属性的 getter 方法。此处同样会多出一个 @is_dead.setter 装饰器，但程序并未使用该装饰器修饰 setter 方法，因此 is_dead 属性只是一个只读属性。"
   ]
  },
  {
   "cell_type": "markdown",
   "metadata": {},
   "source": [
    "### 4. 封装机制及实现方法"
   ]
  },
  {
   "cell_type": "markdown",
   "metadata": {},
   "source": [
    "封装（Encapsulation）是面向对象的三大特征之一（另外两个是继承和多态），它指的是将对象的状态信息隐藏在对象内部，不允许外部程序直接访问对象内部信息，而是通过该类所提供的方法来实现对内部信息的操作和访问。\n",
    "\n",
    "封装是面向对象编程语言对客观世界的模拟，在客观世界里，对象的状态信息都被隐藏在对象内部，外界无法直接操作和修改。对一个类或对象实现良好的封装，可以达到以下目的：<br>\n",
    "1)隐藏类的实现细节。<br>\n",
    "2)让使用者只能通过事先预定的方法来访问数据，从而可以在该方法里加入控制逻辑，限制对属性的不合理访问。<br>\n",
    "3)可进行数据检查，从而有利于保证对象信息的完整性。<br>\n",
    "4)便于修改，提高代码的可维护性。<br>\n",
    "\n",
    "为了实现良好的封装，需要从以下两个方面来考虑：<br>\n",
    "1)将对象的属性和实现细节隐藏起来，不允许外部直接访问。<br>\n",
    "2)把方法暴露出来，让方法来控制对这些属性进行安全的访问和操作。\n",
    "\n",
    "因此，实际上封装有两个方面的含义：把该隐藏的隐藏起来，把该暴露的暴露出来。\n",
    "\n",
    "Python 并没有提供类似于其他语言的 private 等修饰符，因此 Python 并不能真正支持隐藏。为了隐藏类中的成员，Python 玩了一个小技巧：只要将 Python 类的成员命名为以双下画线开头的，Python 就会把它们隐藏起来。\n",
    "\n",
    "例如，如下程序示范了 Python 的封装机制："
   ]
  },
  {
   "cell_type": "code",
   "execution_count": 67,
   "metadata": {},
   "outputs": [],
   "source": [
    "class User :\n",
    "    def __hide(self):\n",
    "        print('示范隐藏的hide方法')\n",
    "    def getname(self):\n",
    "        return self.__name\n",
    "    def setname(self, name):\n",
    "        if len(name) < 3 or len(name) > 8:\n",
    "            raise ValueError('用户名长度必须在3～8之间')\n",
    "        self.__name = name\n",
    "    name = property(getname, setname)\n",
    "    def setage(self, age):\n",
    "        if age < 18 or age > 70:\n",
    "            raise ValueError('用户名年龄必须在18在70之间')\n",
    "        self.__age = age\n",
    "    def getage(self):\n",
    "        return self.__age\n",
    "    age = property(getage, setage)"
   ]
  },
  {
   "cell_type": "code",
   "execution_count": 68,
   "metadata": {},
   "outputs": [
    {
     "ename": "ValueError",
     "evalue": "用户名长度必须在3～8之间",
     "traceback": [
      "\u001b[1;31m---------------------------------------------------------------------------\u001b[0m",
      "\u001b[1;31mValueError\u001b[0m                                Traceback (most recent call last)",
      "\u001b[1;32m<ipython-input-68-88447ef02c94>\u001b[0m in \u001b[0;36m<module>\u001b[1;34m\u001b[0m\n\u001b[0;32m      2\u001b[0m \u001b[0mu\u001b[0m \u001b[1;33m=\u001b[0m \u001b[0mUser\u001b[0m\u001b[1;33m(\u001b[0m\u001b[1;33m)\u001b[0m\u001b[1;33m\u001b[0m\u001b[1;33m\u001b[0m\u001b[0m\n\u001b[0;32m      3\u001b[0m \u001b[1;31m# 对name属性赋值，实际上调用setname()方法\u001b[0m\u001b[1;33m\u001b[0m\u001b[1;33m\u001b[0m\u001b[1;33m\u001b[0m\u001b[0m\n\u001b[1;32m----> 4\u001b[1;33m \u001b[0mu\u001b[0m\u001b[1;33m.\u001b[0m\u001b[0mname\u001b[0m \u001b[1;33m=\u001b[0m \u001b[1;34m'fk'\u001b[0m \u001b[1;31m# 引发 ValueError: 用户名长度必须在3～8之间\u001b[0m\u001b[1;33m\u001b[0m\u001b[1;33m\u001b[0m\u001b[0m\n\u001b[0m",
      "\u001b[1;32m<ipython-input-67-b7bd63d969e9>\u001b[0m in \u001b[0;36msetname\u001b[1;34m(self, name)\u001b[0m\n\u001b[0;32m      6\u001b[0m     \u001b[1;32mdef\u001b[0m \u001b[0msetname\u001b[0m\u001b[1;33m(\u001b[0m\u001b[0mself\u001b[0m\u001b[1;33m,\u001b[0m \u001b[0mname\u001b[0m\u001b[1;33m)\u001b[0m\u001b[1;33m:\u001b[0m\u001b[1;33m\u001b[0m\u001b[1;33m\u001b[0m\u001b[0m\n\u001b[0;32m      7\u001b[0m         \u001b[1;32mif\u001b[0m \u001b[0mlen\u001b[0m\u001b[1;33m(\u001b[0m\u001b[0mname\u001b[0m\u001b[1;33m)\u001b[0m \u001b[1;33m<\u001b[0m \u001b[1;36m3\u001b[0m \u001b[1;32mor\u001b[0m \u001b[0mlen\u001b[0m\u001b[1;33m(\u001b[0m\u001b[0mname\u001b[0m\u001b[1;33m)\u001b[0m \u001b[1;33m>\u001b[0m \u001b[1;36m8\u001b[0m\u001b[1;33m:\u001b[0m\u001b[1;33m\u001b[0m\u001b[1;33m\u001b[0m\u001b[0m\n\u001b[1;32m----> 8\u001b[1;33m             \u001b[1;32mraise\u001b[0m \u001b[0mValueError\u001b[0m\u001b[1;33m(\u001b[0m\u001b[1;34m'用户名长度必须在3～8之间'\u001b[0m\u001b[1;33m)\u001b[0m\u001b[1;33m\u001b[0m\u001b[1;33m\u001b[0m\u001b[0m\n\u001b[0m\u001b[0;32m      9\u001b[0m         \u001b[0mself\u001b[0m\u001b[1;33m.\u001b[0m\u001b[0m__name\u001b[0m \u001b[1;33m=\u001b[0m \u001b[0mname\u001b[0m\u001b[1;33m\u001b[0m\u001b[1;33m\u001b[0m\u001b[0m\n\u001b[0;32m     10\u001b[0m     \u001b[0mname\u001b[0m \u001b[1;33m=\u001b[0m \u001b[0mproperty\u001b[0m\u001b[1;33m(\u001b[0m\u001b[0mgetname\u001b[0m\u001b[1;33m,\u001b[0m \u001b[0msetname\u001b[0m\u001b[1;33m)\u001b[0m\u001b[1;33m\u001b[0m\u001b[1;33m\u001b[0m\u001b[0m\n",
      "\u001b[1;31mValueError\u001b[0m: 用户名长度必须在3～8之间"
     ],
     "output_type": "error"
    }
   ],
   "source": [
    "# 创建User对象\n",
    "u = User()\n",
    "# 对name属性赋值，实际上调用setname()方法\n",
    "u.name = 'fk' # 引发 ValueError: 用户名长度必须在3～8之间"
   ]
  },
  {
   "cell_type": "markdown",
   "metadata": {},
   "source": [
    "上面程序将 User 的两个实例变量分别命名为 __name 和 __age，这两个实例变量就会被隐藏起来，这样程序就无法直接访问 __name、__age 变量，只能通过 setname()、getname()、setage()、getage() 这些访问器方法进行访问，而 setname()、setage() 会对用户设置的 name、age 进行控制，只有符合条件的 name、age 才允许设置。"
   ]
  },
  {
   "cell_type": "code",
   "execution_count": 69,
   "metadata": {},
   "outputs": [
    {
     "name": "stdout",
     "output_type": "stream",
     "text": [
      "fkit\n25\n"
     ]
    }
   ],
   "source": [
    "u.name = 'fkit'\n",
    "u.age = 25\n",
    "print(u.name) # fkit\n",
    "print(u.age) # 25"
   ]
  },
  {
   "cell_type": "markdown",
   "metadata": {},
   "source": [
    "从该程序可以看出封装的好处，程序可以将 User 对象的实现细节隐藏起来，程序只能通过暴露出来的 setname()、setage() 方法来改变 User 对象的状态，而这两个方法可以添加自己的逻辑控制，这种控制对 User 的修改始终是安全的。\n",
    "\n",
    "上面程序还定义了一个 hide() 方法，这个方法默认是隐藏的。如果程序尝试执行如下代码："
   ]
  },
  {
   "cell_type": "code",
   "execution_count": 70,
   "metadata": {},
   "outputs": [
    {
     "ename": "AttributeError",
     "evalue": "'User' object has no attribute '__hide'",
     "traceback": [
      "\u001b[1;31m---------------------------------------------------------------------------\u001b[0m",
      "\u001b[1;31mAttributeError\u001b[0m                            Traceback (most recent call last)",
      "\u001b[1;32m<ipython-input-70-f84b405d26f0>\u001b[0m in \u001b[0;36m<module>\u001b[1;34m\u001b[0m\n\u001b[0;32m      1\u001b[0m \u001b[1;31m# 尝试调用隐藏的__hide()方法\u001b[0m\u001b[1;33m\u001b[0m\u001b[1;33m\u001b[0m\u001b[1;33m\u001b[0m\u001b[0m\n\u001b[1;32m----> 2\u001b[1;33m \u001b[0mu\u001b[0m\u001b[1;33m.\u001b[0m\u001b[0m__hide\u001b[0m\u001b[1;33m(\u001b[0m\u001b[1;33m)\u001b[0m\u001b[1;33m\u001b[0m\u001b[1;33m\u001b[0m\u001b[0m\n\u001b[0m",
      "\u001b[1;31mAttributeError\u001b[0m: 'User' object has no attribute '__hide'"
     ],
     "output_type": "error"
    }
   ],
   "source": [
    "# 尝试调用隐藏的__hide()方法\n",
    "u.__hide()"
   ]
  },
  {
   "cell_type": "markdown",
   "metadata": {},
   "source": [
    "最后需要说明的是，Python 其实没有真正的隐藏机制，双下画线只是 Python 的一个小技巧，Python 会“偷偷”地改变以双下画线开头的方法名，会在这些方法名前添加单下画线和类名。因此上面的 __hide() 方法其实可以按如下方式调用（通常并不推荐这么干）："
   ]
  },
  {
   "cell_type": "code",
   "execution_count": 71,
   "metadata": {},
   "outputs": [
    {
     "name": "stdout",
     "output_type": "stream",
     "text": [
      "示范隐藏的hide方法\n"
     ]
    }
   ],
   "source": [
    "# 调用隐藏的__hide()方法\n",
    "u._User__hide()"
   ]
  },
  {
   "cell_type": "markdown",
   "metadata": {},
   "source": [
    "类似的是，程序也可通过为隐藏的实例变量添加下画线和类名的方式来访问或修改对象的实例变量。例如如下代码："
   ]
  },
  {
   "cell_type": "code",
   "execution_count": 72,
   "metadata": {},
   "outputs": [
    {
     "name": "stdout",
     "output_type": "stream",
     "text": [
      "fk\n"
     ]
    }
   ],
   "source": [
    "# 对隐藏的__name属性赋值\n",
    "u._User__name = 'fk'\n",
    "# 访问User对象的name属性（实际上访问__name实例变量）\n",
    "print(u.name)"
   ]
  },
  {
   "cell_type": "markdown",
   "metadata": {},
   "source": [
    "总结:<br>\n",
    "Python 并没有提供真正的隐藏机制，所以 Python 类定义的所有成员默认都是公开的；如果程序希望将 Python 类中的某些成员隐藏起来，那么只要让该成员的名字以双下画线开头即可。\n",
    "\n",
    "即使通过这种机制实现了隐藏，其实也依然可以绕过去。"
   ]
  }
 ],
 "metadata": {
  "kernelspec": {
   "display_name": "Python 2",
   "language": "python",
   "name": "python2"
  },
  "language_info": {
   "codemirror_mode": {
    "name": "ipython",
    "version": 2
   },
   "file_extension": ".py",
   "mimetype": "text/x-python",
   "name": "python",
   "nbconvert_exporter": "python",
   "pygments_lexer": "ipython2",
   "version": "2.7.6"
  }
 },
 "nbformat": 4,
 "nbformat_minor": 0
}
