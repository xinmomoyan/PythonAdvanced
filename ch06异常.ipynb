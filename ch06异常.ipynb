{
 "cells": [
  {
   "cell_type": "markdown",
   "metadata": {
    "collapsed": true
   },
   "source": [
    "### 异常\n",
    "\n",
    "Python使用被称为异常的特殊对象来管理程序执行期间发生的错误。每当发生让Python不知\n",
    "所措的错误时，它都会创建一个异常对象。如果你编写了处理该异常的代码，程序将继续运行；\n",
    "如果你未对异常进行处理，程序将停止，并显示一个traceback，其中包含有关异常的报告。\n",
    "\n",
    "异常是使用 try-except 代码块处理的。 try-except 代码块让Python执行指定的操作，同时告\n",
    "诉Python发生异常时怎么办。使用了 try-except 代码块时，即便出现异常，程序也将继续运行：\n",
    "显示你编写的友好的错误消息，而不是令用户迷惑的traceback。\n"
   ]
  },
  {
   "cell_type": "markdown",
   "metadata": {},
   "source": [
    "#### 1.处理 ZeroDivisionError 异常\n",
    "\n",
    "下面来看一种导致Python引发异常的简单错误。你可能知道不能将一个数字除以0，但我们\n",
    "还是让Python这样做吧："
   ]
  },
  {
   "cell_type": "code",
   "execution_count": 1,
   "metadata": {},
   "outputs": [
    {
     "ename": "ZeroDivisionError",
     "evalue": "division by zero",
     "traceback": [
      "\u001b[1;31m---------------------------------------------------------------------------\u001b[0m",
      "\u001b[1;31mZeroDivisionError\u001b[0m                         Traceback (most recent call last)",
      "\u001b[1;32m<ipython-input-1-fad870a50e27>\u001b[0m in \u001b[0;36m<module>\u001b[1;34m\u001b[0m\n\u001b[1;32m----> 1\u001b[1;33m \u001b[0mprint\u001b[0m\u001b[1;33m(\u001b[0m\u001b[1;36m5\u001b[0m\u001b[1;33m/\u001b[0m\u001b[1;36m0\u001b[0m\u001b[1;33m)\u001b[0m\u001b[1;33m\u001b[0m\u001b[1;33m\u001b[0m\u001b[0m\n\u001b[0m",
      "\u001b[1;31mZeroDivisionError\u001b[0m: division by zero"
     ],
     "output_type": "error"
    }
   ],
   "source": [
    "print(5/0)"
   ]
  },
  {
   "cell_type": "markdown",
   "metadata": {},
   "source": [
    "在上述traceback中，指出的错误 ZeroDivisionError 是一个异常对象。Python无法按你的\n",
    "要求做时，就会创建这种对象。在这种情况下，Python将停止运行程序，并指出引发了哪种异常，\n",
    "而我们可根据这些信息对程序进行修改。下面我们将告诉Python，发生这种错误时怎么办；这样，\n",
    "如果再次发生这样的错误，我们就有备无患了。"
   ]
  },
  {
   "cell_type": "markdown",
   "metadata": {},
   "source": [
    "#### 2.使用 try-except 代码块\n",
    "\n",
    "当你认为可能发生了错误时，可编写一个 try-except 代码块来处理可能引发的异常。你让\n",
    "Python尝试运行一些代码，并告诉它如果这些代码引发了指定的异常，该怎么办。\n",
    "处理 ZeroDivisionError 异常的 try-except 代码块类似于下面这样："
   ]
  },
  {
   "cell_type": "code",
   "execution_count": 2,
   "metadata": {},
   "outputs": [],
   "source": [
    "def caculator(a, b):\n",
    "    try:\n",
    "        print(a / b)\n",
    "    except ZeroDivisionError:\n",
    "        print(\"You can't divide by zero!\")\n",
    "    print('继续执行')\n"
   ]
  },
  {
   "cell_type": "code",
   "execution_count": 4,
   "metadata": {},
   "outputs": [
    {
     "name": "stdout",
     "output_type": "stream",
     "text": [
      "You can't divide by zero!\n继续执行\n"
     ]
    }
   ],
   "source": [
    "caculator(5,0)"
   ]
  },
  {
   "cell_type": "code",
   "execution_count": 5,
   "metadata": {},
   "outputs": [
    {
     "name": "stdout",
     "output_type": "stream",
     "text": [
      "5.0\n继续执行\n"
     ]
    }
   ],
   "source": [
    "caculator(5,1)"
   ]
  },
  {
   "cell_type": "markdown",
   "metadata": {},
   "source": [
    "我们将导致错误的代码行 print(5/0) 放在了一个 try 代码块中。如果 try 代码块中的代码运行\n",
    "起来没有问题，Python将跳过 except 代码块；如果 try 代码块中的代码导致了错误，Python将查找\n",
    "这样的 except 代码块，并运行其中的代码，即其中指定的错误与引发的错误相同。\n",
    "\n",
    "在这个示例中， try 代码块中的代码引发了 ZeroDivisionError 异常，因此Python指出了该如\n",
    "何解决问题的 except 代码块，并运行其中的代码。这样，用户看到的是一条友好的错误消息，而\n",
    "不是 traceback。"
   ]
  },
  {
   "cell_type": "markdown",
   "metadata": {},
   "source": [
    "如果 try-except 代码块后面还有其他代码，程序将接着运行，因为已经告诉了Python如何处\n",
    "理这种错误，捕获错误后程序将继续运行。"
   ]
  },
  {
   "cell_type": "markdown",
   "metadata": {},
   "source": [
    "#### 3.else模块\n",
    "通过将可能引发错误的代码放在 try-excep t代码块中，可提高这个程序抵御错误的能力。错\n",
    "误是执行除法运算的代码行导致的，因此我们需要将它放到 try-except 代码块中。这个示例还包\n",
    "含一个 else 代码块；依赖于 try 代码块成功执行的代码都应放到 else 代码块中"
   ]
  },
  {
   "cell_type": "code",
   "execution_count": 6,
   "metadata": {},
   "outputs": [],
   "source": [
    "def caculator(a, b):\n",
    "    try:\n",
    "        print(a / b)\n",
    "    except ZeroDivisionError:\n",
    "        print(\"You can't divide by zero!\")\n",
    "    else:\n",
    "        print('成功运行')\n"
   ]
  },
  {
   "cell_type": "code",
   "execution_count": 8,
   "metadata": {},
   "outputs": [
    {
     "name": "stdout",
     "output_type": "stream",
     "text": [
      "5.0\n成功运行\n"
     ]
    }
   ],
   "source": [
    "caculator(5,1)"
   ]
  },
  {
   "cell_type": "markdown",
   "metadata": {},
   "source": [
    "### 4.捕获多个异常"
   ]
  },
  {
   "cell_type": "code",
   "execution_count": 9,
   "metadata": {},
   "outputs": [
    {
     "name": "stdout",
     "output_type": "stream",
     "text": [
      "1\n出现异常了\n"
     ]
    }
   ],
   "source": [
    "try:\n",
    "    a = 1\n",
    "    print(a)\n",
    "    b = 1 / 0\n",
    "    print('hello')  # 异常抛出后不会继续执行了\n",
    "except (NameError, ZeroDivisionError):\n",
    "    print('出现异常了')\n",
    "   "
   ]
  },
  {
   "cell_type": "code",
   "execution_count": 10,
   "metadata": {},
   "outputs": [
    {
     "name": "stdout",
     "output_type": "stream",
     "text": [
      "1\n出现异常了\ndivision by zero\n"
     ]
    }
   ],
   "source": [
    "try:\n",
    "    a = 1\n",
    "    print(a)\n",
    "    b = 1 / 0\n",
    "    print('hello')  # 异常抛出后不会继续执行了\n",
    "except (NameError, ZeroDivisionError) as ex:  # ex代表刚刚捕获的异常对象\n",
    "    print('出现异常了')\n",
    "    print(ex)\n"
   ]
  },
  {
   "cell_type": "code",
   "execution_count": 11,
   "metadata": {},
   "outputs": [
    {
     "name": "stdout",
     "output_type": "stream",
     "text": [
      "1\n出现异常了\ndivision by zero\nhello world\n"
     ]
    }
   ],
   "source": [
    "try:\n",
    "    a = 1\n",
    "    print(a)\n",
    "    b = 1 / 0\n",
    "    print('hello')  # 异常抛出后不会继续执行了\n",
    "except (NameError, ZeroDivisionError) as ex:  # ex代表刚刚捕获的异常对象\n",
    "    print('出现异常了')\n",
    "    print(ex)\n",
    "print('hello world')  # 因为捕获异常，所以继续执行\n"
   ]
  },
  {
   "cell_type": "code",
   "execution_count": 21,
   "metadata": {},
   "outputs": [
    {
     "name": "stdout",
     "output_type": "stream",
     "text": [
      "出现异常\n%d format: a number is required, not str\n文件关闭\n"
     ]
    }
   ],
   "source": [
    "x = \"123\"\n",
    "f = open('a.txt', 'w')\n",
    "try:\n",
    "    f.write(\"hello\")\n",
    "    f.write(\"world %d\" % x)\n",
    "    print('ok')\n",
    "except Exception as ex:  # Exception所有异常的父类\n",
    "    print('出现异常')\n",
    "    print(ex)\n",
    "finally:  # 不管前面是否出现异常都会执行\n",
    "    print('文件关闭')\n",
    "    f.close()\n"
   ]
  },
  {
   "cell_type": "code",
   "execution_count": 22,
   "metadata": {},
   "outputs": [
    {
     "name": "stdout",
     "output_type": "stream",
     "text": [
      "ok\n没有异常的情况下会执行的代码\n文件关闭\n"
     ]
    }
   ],
   "source": [
    "x = \"123\"\n",
    "f = open('a.txt', 'w')\n",
    "try:\n",
    "    f.write(\"hello\")\n",
    "    # f.write(\"world %d\" % x)\n",
    "    print('ok')\n",
    "except Exception as ex:  # Exception所有异常的父类\n",
    "    print('出现异常')\n",
    "    print(ex)\n",
    "else:  # 没有异常的情况下会执行的代码\n",
    "    print('没有异常的情况下会执行的代码')\n",
    "finally:  # 不管前面是否出现异常都会执行\n",
    "    print('文件关闭')\n",
    "    f.close()\n"
   ]
  },
  {
   "cell_type": "markdown",
   "metadata": {},
   "source": [
    "### 5.异常的嵌套"
   ]
  },
  {
   "cell_type": "code",
   "execution_count": 30,
   "metadata": {},
   "outputs": [
    {
     "name": "stdout",
     "output_type": "stream",
     "text": [
      "substring not found\n文件关闭\n"
     ]
    }
   ],
   "source": [
    "try:\n",
    "    f = open('data\\\\programming.txt')\n",
    "    try:\n",
    "        content = f.read()\n",
    "        content.index(\"hadoop\")\n",
    "    except ValueError as ex:\n",
    "        print(ex)\n",
    "except FileNotFoundError as ex:\n",
    "    print(ex)\n",
    "finally:\n",
    "    print('文件关闭')\n",
    "    f.close()\n"
   ]
  },
  {
   "cell_type": "markdown",
   "metadata": {},
   "source": [
    "### 一次性捕获所有异常就可以了，异常嵌套不常用"
   ]
  },
  {
   "cell_type": "code",
   "execution_count": 31,
   "metadata": {},
   "outputs": [
    {
     "name": "stdout",
     "output_type": "stream",
     "text": [
      "substring not found\n"
     ]
    }
   ],
   "source": [
    "try:\n",
    "    f = open('data\\\\programming.txt')\n",
    "    content = f.read()\n",
    "    content.index(\"hadoop\")\n",
    "except Exception as ex:\n",
    "    print(ex)\n",
    "\n"
   ]
  },
  {
   "cell_type": "markdown",
   "metadata": {},
   "source": [
    "### 6.自定义异常\n",
    "\n"
   ]
  },
  {
   "cell_type": "code",
   "execution_count": 32,
   "metadata": {},
   "outputs": [],
   "source": [
    "class PasswordException(Exception):\n",
    "    def __init__(self, password, min_length):\n",
    "        self.password = password\n",
    "        self.min_length = min_length\n",
    "        \n",
    "    def __str__(self):\n",
    "        return \"%s的密码错误，密码最小长度为%s\" % (self.password, self.min_length)\n"
   ]
  },
  {
   "cell_type": "code",
   "execution_count": 33,
   "metadata": {},
   "outputs": [],
   "source": [
    "def reg(username, password):\n",
    "    if len(password) < 6:\n",
    "        raise PasswordException(password, 6)\n",
    "    else:\n",
    "        print(\"用户名为 %s，密码为 %s\" % (username, password))\n"
   ]
  },
  {
   "cell_type": "code",
   "execution_count": 35,
   "metadata": {},
   "outputs": [
    {
     "name": "stdout",
     "output_type": "stream",
     "text": [
      "1234的密码错误，密码最小长度为6\n"
     ]
    }
   ],
   "source": [
    "try:\n",
    "    reg('zs', '1234')\n",
    "except Exception as ex:\n",
    "    print(ex)\n"
   ]
  },
  {
   "cell_type": "code",
   "execution_count": 36,
   "metadata": {},
   "outputs": [
    {
     "name": "stdout",
     "output_type": "stream",
     "text": [
      "1234的密码错误，密码最小长度为6\n"
     ]
    }
   ],
   "source": [
    "try:\n",
    "    reg('zs', '1234')\n",
    "except PasswordException as ex:\n",
    "    print(ex)\n"
   ]
  },
  {
   "cell_type": "code",
   "execution_count": null,
   "metadata": {},
   "outputs": [],
   "source": []
  }
 ],
 "metadata": {
  "kernelspec": {
   "display_name": "Python 2",
   "language": "python",
   "name": "python2"
  },
  "language_info": {
   "codemirror_mode": {
    "name": "ipython",
    "version": 2
   },
   "file_extension": ".py",
   "mimetype": "text/x-python",
   "name": "python",
   "nbconvert_exporter": "python",
   "pygments_lexer": "ipython2",
   "version": "2.7.6"
  }
 },
 "nbformat": 4,
 "nbformat_minor": 0
}
