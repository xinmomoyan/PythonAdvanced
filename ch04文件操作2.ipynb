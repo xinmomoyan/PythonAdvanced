{
 "cells": [
  {
   "cell_type": "markdown",
   "metadata": {
    "collapsed": true
   },
   "source": [
    "### 文件操作之打开模式<br>\n",
    "#### 1、普通打开模式\n",
    "\n",
    "1)r，英文：read，只读模式(默认)<br>\n",
    "2)w，英文：write，只写模式（不可读，不存在则创建新文件，存在则删除内容）<br>\n",
    "3)a，英文：append，追加模式(不可读，不存在则创建，存在则只追加内容"
   ]
  },
  {
   "cell_type": "code",
   "execution_count": 4,
   "metadata": {},
   "outputs": [
    {
     "name": "stdout",
     "output_type": "stream",
     "text": [
      "I love programming.\nI love creating new games.\nI also love finding meaning in large datasets.\nI love creating apps that can run in a browser.\n\n\n"
     ]
    },
    {
     "ename": "UnsupportedOperation",
     "evalue": "not writable",
     "traceback": [
      "\u001b[1;31m---------------------------------------------------------------------------\u001b[0m",
      "\u001b[1;31mUnsupportedOperation\u001b[0m                      Traceback (most recent call last)",
      "\u001b[1;32m<ipython-input-4-08974b0db28e>\u001b[0m in \u001b[0;36m<module>\u001b[1;34m\u001b[0m\n\u001b[0;32m      3\u001b[0m \u001b[0mf\u001b[0m \u001b[1;33m=\u001b[0m \u001b[0mopen\u001b[0m\u001b[1;33m(\u001b[0m\u001b[0mfilename\u001b[0m\u001b[1;33m,\u001b[0m\u001b[1;34m'r'\u001b[0m\u001b[1;33m)\u001b[0m\u001b[1;33m\u001b[0m\u001b[1;33m\u001b[0m\u001b[0m\n\u001b[0;32m      4\u001b[0m \u001b[0mprint\u001b[0m\u001b[1;33m(\u001b[0m\u001b[0mf\u001b[0m\u001b[1;33m.\u001b[0m\u001b[0mread\u001b[0m\u001b[1;33m(\u001b[0m\u001b[1;33m)\u001b[0m\u001b[1;33m)\u001b[0m\u001b[1;33m\u001b[0m\u001b[1;33m\u001b[0m\u001b[0m\n\u001b[1;32m----> 5\u001b[1;33m \u001b[0mf\u001b[0m\u001b[1;33m.\u001b[0m\u001b[0mwrite\u001b[0m\u001b[1;33m(\u001b[0m\u001b[1;34m'nihao'\u001b[0m\u001b[1;33m)\u001b[0m\u001b[1;33m\u001b[0m\u001b[1;33m\u001b[0m\u001b[0m\n\u001b[0m\u001b[0;32m      6\u001b[0m \u001b[0mf\u001b[0m\u001b[1;33m.\u001b[0m\u001b[0mclose\u001b[0m\u001b[1;33m(\u001b[0m\u001b[1;33m)\u001b[0m\u001b[1;33m\u001b[0m\u001b[1;33m\u001b[0m\u001b[0m\n",
      "\u001b[1;31mUnsupportedOperation\u001b[0m: not writable"
     ],
     "output_type": "error"
    }
   ],
   "source": [
    "# r(读)\n",
    "filename = 'data\\\\programming.txt'\n",
    "f = open(filename,'r')\n",
    "print(f.read())\n",
    "f.write('nihao')\n",
    "f.close()"
   ]
  },
  {
   "cell_type": "markdown",
   "metadata": {},
   "source": [
    "注：读操作，只能是只读，不能写和追加"
   ]
  },
  {
   "cell_type": "code",
   "execution_count": 7,
   "metadata": {},
   "outputs": [],
   "source": [
    "# w(写)\n",
    "f = open(filename,'w')\n",
    "f.write('nihaowohao')\n",
    "f.close()"
   ]
  },
  {
   "cell_type": "markdown",
   "metadata": {},
   "source": [
    "#### programming.txt\n",
    "nihaowohao\n",
    "\n",
    "注：写操作只能写，不能读和追加，而且写操作会重新创建一个文件，会覆盖之前的文件"
   ]
  },
  {
   "cell_type": "code",
   "execution_count": 8,
   "metadata": {},
   "outputs": [],
   "source": [
    "# a(追加)\n",
    "f = open(filename,'a')\n",
    "f.write('caishizhenhao')\n",
    "f.close()"
   ]
  },
  {
   "cell_type": "markdown",
   "metadata": {},
   "source": [
    "#### programming.txt\n",
    "nihaowohaocaishizhenhao\n",
    "\n",
    "注：追加模式不可读，不存在则创建，存在则只追加内容"
   ]
  },
  {
   "cell_type": "markdown",
   "metadata": {},
   "source": [
    "#### 2、同时读写模式\n",
    "\n",
    "1)r+,可读写文件(可读；可写；可追加，不存在文件则报错)<br>\n",
    "2)w+,可写读文件（可读，可写，创建新文件）<br>\n",
    "3)a+,可追加和读文件(可读，可追加，不存在则创建)<br>"
   ]
  },
  {
   "cell_type": "code",
   "execution_count": 19,
   "metadata": {},
   "outputs": [
    {
     "name": "stdout",
     "output_type": "stream",
     "text": [
      "nihaowohaocaishizhenhao\n23\nnihaowohaocaishizhenhao帅帅帅\n"
     ]
    }
   ],
   "source": [
    "# r+(读写)\n",
    "f = open(filename, 'r+', encoding='utf-8')  # utf-8 才支持中文\n",
    "print(f.readline())\n",
    "print(f.tell())\n",
    "f.write('帅帅帅')\n",
    "f.seek(0) # 光标指针退到最开始的位置\n",
    "print(f.readline())\n",
    "f.close()\n"
   ]
  },
  {
   "cell_type": "code",
   "execution_count": 27,
   "metadata": {},
   "outputs": [
    {
     "name": "stdout",
     "output_type": "stream",
     "text": [
      "\nqigao zui lang\n14\nqigao zui langqigao zui lang\n\n"
     ]
    }
   ],
   "source": [
    "# (写读)\n",
    "# 写读的功能是：创建新文件->写入文本->设置指针为开始位置(seek(0))->读取到文件内容\n",
    "f = open(filename,\"w+\",encoding=\"utf-8\")\n",
    "print(f.read())\n",
    "f.write(\"qigao zui lang\")\n",
    "f.seek(0)\n",
    "print(f.read())\n",
    "print(f.tell())\n",
    "f.write(\"qigao zui lang\\n\")\n",
    "f.seek(0)\n",
    "print(f.read())\n",
    "f.close()\n"
   ]
  },
  {
   "cell_type": "code",
   "execution_count": 29,
   "metadata": {},
   "outputs": [
    {
     "name": "stdout",
     "output_type": "stream",
     "text": [
      "--------data1-----\n\n--------data2-----\nqigao zui langqigao zui lang\n\n---------data3----\n\n--------data4-----\nqigao zui langqigao zui lang\nqigao zui lang\n"
     ]
    }
   ],
   "source": [
    "# a+(追加和读)\n",
    "# 追加和读：追加读在写入文件时，不会清空之前的内容，而是在之前的内容的追加一行，读取文件内容，需要重新设置指针\n",
    "f = open(filename, \"a+\", encoding=\"utf-8\")\n",
    "print(\"--------data1-----\")\n",
    "print(f.read())  #没有设置指针\n",
    "print(\"--------data2-----\")\n",
    "f.seek(0)\n",
    "print(f.read())  #设置指针\n",
    "f.write(\"qigao zui lang\")\n",
    "print(\"---------data3----\")\n",
    "print(f.read())  #写完以后没有设置指针\n",
    "print(\"--------data4-----\")\n",
    "f.seek(0)\n",
    "print(f.read())  #写完以后设置指针\n",
    "f.close()\n"
   ]
  },
  {
   "cell_type": "markdown",
   "metadata": {},
   "source": [
    "#### 3、二进制打开模式\n",
    "\n",
    "1)rb，二进制读<br>\n",
    "2)wb，二进制写<br>\n",
    "3)ab，二进制追加<br>\n",
    "　　这种打开模式就要注意了，这种是以二进制操作的，也就是说不管是是读，写，追加，都必须是二进制文件，也就是字节，而不是字符，需要解码以后才会生成字符。一般情况下跨平台的文件，视频文件等需要二进制模式操作。"
   ]
  },
  {
   "cell_type": "code",
   "execution_count": 60,
   "metadata": {},
   "outputs": [
    {
     "data": {
      "text/plain": [
       "b'qigao zui langqigao zui lan\\r\\n'"
      ]
     },
     "execution_count": 60,
     "metadata": {},
     "output_type": "execute_result"
    }
   ],
   "source": [
    "# f = open(filename,'r+')\n",
    "# print(f.read())\n",
    "\n",
    "#二进制读取\n",
    "f = open(filename, \"rb\")\n",
    "\n",
    "f_read = f.read()\n",
    "f_read # 没有解码，读出来的是二进制，也就是字节码"
   ]
  },
  {
   "cell_type": "code",
   "execution_count": 63,
   "metadata": {},
   "outputs": [
    {
     "data": {
      "text/plain": [
       "'qigao zui langqigao zui lan\\r\\n'"
      ]
     },
     "execution_count": 63,
     "metadata": {},
     "output_type": "execute_result"
    }
   ],
   "source": [
    "f_read.decode()  # 解码后，是字符\n"
   ]
  },
  {
   "cell_type": "code",
   "execution_count": 76,
   "metadata": {},
   "outputs": [],
   "source": [
    "# wb(二进制写)\n",
    "f = open(filename, 'wb')\n",
    "str = '我最帅'\n",
    "en_str = str.encode()  # 写入文件，就需要编码，否则就会报错\n",
    "f.write(en_str)\n",
    "f.close()\n"
   ]
  },
  {
   "cell_type": "code",
   "execution_count": 77,
   "metadata": {},
   "outputs": [
    {
     "name": "stdout",
     "output_type": "stream",
     "text": [
      "我最帅\n"
     ]
    }
   ],
   "source": [
    "f=open(filename,'r',encoding='utf-8')\n",
    "print(f.read())\n",
    "f.close()"
   ]
  },
  {
   "cell_type": "code",
   "execution_count": 78,
   "metadata": {},
   "outputs": [],
   "source": [
    "# ab(二进制追加)\n",
    "f = open(filename, \"ab\")\n",
    "in_str = \"gaoge,shuai de yibi\"\n",
    "# 这边需要先编码，才能追加到文件中\n",
    "in_str = in_str.encode()\n",
    "\n",
    "f.write(in_str)\n",
    "f.close()\n"
   ]
  },
  {
   "cell_type": "code",
   "execution_count": 79,
   "metadata": {},
   "outputs": [
    {
     "name": "stdout",
     "output_type": "stream",
     "text": [
      "我最帅gaoge,shuai de yibi\n"
     ]
    }
   ],
   "source": [
    "f = open(filename,'r',encoding='utf-8')\n",
    "print(f.read())\n",
    "f.close()"
   ]
  },
  {
   "cell_type": "markdown",
   "metadata": {},
   "source": [
    "总结：\n",
    "\n",
    "普通打开模式和二进制打开模式，只是在python 3中，二进制打开模式才做了字符和字节的编码和解码；然而在python 2中，字节和字符没有做明显的区别，所以在python 2中，二进制模式读取文件时，不需要做编码和转码的操作。"
   ]
  },
  {
   "cell_type": "markdown",
   "metadata": {},
   "source": [
    "#### 批量修改文件名"
   ]
  },
  {
   "cell_type": "code",
   "execution_count": null,
   "metadata": {},
   "outputs": [],
   "source": []
  }
 ],
 "metadata": {
  "kernelspec": {
   "display_name": "Python 2",
   "language": "python",
   "name": "python2"
  },
  "language_info": {
   "codemirror_mode": {
    "name": "ipython",
    "version": 2
   },
   "file_extension": ".py",
   "mimetype": "text/x-python",
   "name": "python",
   "nbconvert_exporter": "python",
   "pygments_lexer": "ipython2",
   "version": "2.7.6"
  }
 },
 "nbformat": 4,
 "nbformat_minor": 0
}
