{
 "cells": [
  {
   "cell_type": "markdown",
   "metadata": {
    "collapsed": true
   },
   "source": [
    "### 1.批量修改文件名"
   ]
  },
  {
   "cell_type": "code",
   "execution_count": 2,
   "metadata": {},
   "outputs": [
    {
     "data": {
      "text/plain": [
       "'C:\\\\Users\\\\Administrator\\\\PycharmProjects\\\\python进阶'"
      ]
     },
     "execution_count": 2,
     "metadata": {},
     "output_type": "execute_result"
    }
   ],
   "source": [
    "import os\n",
    "\n",
    "os.getcwd()\n"
   ]
  },
  {
   "cell_type": "code",
   "execution_count": 3,
   "metadata": {},
   "outputs": [],
   "source": [
    "file_list=os.listdir(\"test/\")    #读取目录下的所有文件名，形成字符串列表"
   ]
  },
  {
   "cell_type": "code",
   "execution_count": 4,
   "metadata": {},
   "outputs": [
    {
     "data": {
      "text/plain": [
       "['1', '2', '3']"
      ]
     },
     "execution_count": 4,
     "metadata": {},
     "output_type": "execute_result"
    }
   ],
   "source": [
    "file_list"
   ]
  },
  {
   "cell_type": "code",
   "execution_count": 5,
   "metadata": {},
   "outputs": [],
   "source": [
    "# 利用相对路径进行修改\n",
    "for f in file_list:\n",
    "    dest_file = \"re-\" + f\n",
    "    os.rename(\"test/\" + f, \"test/\" + dest_file)\n"
   ]
  },
  {
   "cell_type": "code",
   "execution_count": 6,
   "metadata": {},
   "outputs": [
    {
     "data": {
      "text/plain": [
       "['re-1', 're-2', 're-3']"
      ]
     },
     "execution_count": 6,
     "metadata": {},
     "output_type": "execute_result"
    }
   ],
   "source": [
    "file_list=os.listdir(\"test/\") \n",
    "file_list"
   ]
  },
  {
   "cell_type": "code",
   "execution_count": 7,
   "metadata": {},
   "outputs": [],
   "source": [
    "# 利用绝对路径进行修改\n",
    "for f in file_list:\n",
    "    dest_file = \"re-\" + f\n",
    "    parent_dir = os.path.abspath(\"test\")  # 获取父目录的绝对路径\n",
    "    source_file = os.path.join(parent_dir, f)  # 字符串拼接，拼接源文件绝对路径\n",
    "    dest_file = os.path.join(parent_dir, dest_file)  # 拼接修改后的文件绝对路径\n",
    "    os.rename(source_file, dest_file)\n"
   ]
  },
  {
   "cell_type": "code",
   "execution_count": 8,
   "metadata": {},
   "outputs": [
    {
     "data": {
      "text/plain": [
       "['re-re-1', 're-re-2', 're-re-3']"
      ]
     },
     "execution_count": 8,
     "metadata": {},
     "output_type": "execute_result"
    }
   ],
   "source": [
    "file_list=os.listdir(\"test/\") \n",
    "file_list"
   ]
  },
  {
   "cell_type": "markdown",
   "metadata": {},
   "source": [
    "### 2.从某个目录下，读取包含某个字符串的某种类型的文件有哪些？\n",
    "\n",
    "例如：从/home/python目录下读取包含hello的.py文件有哪些？"
   ]
  },
  {
   "cell_type": "code",
   "execution_count": 11,
   "metadata": {},
   "outputs": [],
   "source": [
    "def read_and_find_hello(dir):\n",
    "    pass\n",
    "\n",
    "def find_hello(dir):\n",
    "    if os.path.isdir(dir):  # 如果传入的是一个目录\n",
    "        pass\n",
    "    else:\n",
    "        if dir.endswith('py'):  # 传入的文件是否以py结尾\n",
    "            if read_and_find_hello(dir):  # 读取该py文件，并且看看文件中是否包含hello\n",
    "                pass\n"
   ]
  },
  {
   "cell_type": "code",
   "execution_count": 12,
   "metadata": {},
   "outputs": [],
   "source": [
    "def read_and_find_hello(py_file):\n",
    "    flag = False\n",
    "    f = open(py_file)  #打开文件准备读取路径\n",
    "    while True:\n",
    "        line = f.readline()  #读取文件内容，一行一行的读取\n",
    "        if line == '':  #文件读到最后一行，终止循环\n",
    "            break\n",
    "        elif \"hello\" in line:\n",
    "            flag = True\n",
    "            break\n",
    "    f.close()\n",
    "    return flag\n"
   ]
  },
  {
   "cell_type": "code",
   "execution_count": 13,
   "metadata": {},
   "outputs": [
    {
     "data": {
      "text/plain": [
       "True"
      ]
     },
     "execution_count": 13,
     "metadata": {},
     "output_type": "execute_result"
    }
   ],
   "source": [
    "filename = 'test\\\\1.py'\n",
    "read_and_find_hello(filename)"
   ]
  },
  {
   "cell_type": "code",
   "execution_count": 14,
   "metadata": {},
   "outputs": [
    {
     "data": {
      "text/plain": [
       "False"
      ]
     },
     "execution_count": 14,
     "metadata": {},
     "output_type": "execute_result"
    }
   ],
   "source": [
    "filename = 'test\\\\2.py'\n",
    "read_and_find_hello(filename)"
   ]
  },
  {
   "cell_type": "code",
   "execution_count": 26,
   "metadata": {},
   "outputs": [],
   "source": [
    "# 以上单个方法测试通过\n",
    "file_list = []\n",
    "# 递归函数，该函数中所有的文件路径全部采用绝对路径，parent_dir:\n",
    "# 文件所在父目录的绝对路径，file_name表示当前你要处理的文件或目录\n",
    "def find_hello(parent_dir, file_name):\n",
    "    file_abspath = os.path.join(parent_dir, file_name)  # 当前正在处理的文件或者目录的绝对路径\n",
    "    if os.path.isdir(file_abspath):  # 如果传入的文件是一个目录\n",
    "        for f in os.listdir(file_abspath):  # 进入目录，列出该目录下的所有文件列表\n",
    "            find_hello(file_abspath, f)  # 调用函数本身，传入父目录和本身名称进行判断和处理\n",
    "    else:\n",
    "        if file_abspath.endswith(\".py\"):  # 如果传入的文件就是文件，判断文件名是否以.py结尾\n",
    "            if read_and_find_hello(file_abspath):  # 读取该py结尾的文件，并且看看文件内容中是否包含有hello\n",
    "                file_list.append(file_abspath)\n"
   ]
  },
  {
   "cell_type": "code",
   "execution_count": 27,
   "metadata": {},
   "outputs": [
    {
     "data": {
      "text/plain": [
       "'C:\\\\Users\\\\Administrator\\\\PycharmProjects\\\\python进阶\\\\python进阶'"
      ]
     },
     "execution_count": 27,
     "metadata": {},
     "output_type": "execute_result"
    }
   ],
   "source": [
    "path1 =os.path.abspath(\"python进阶\") \n",
    "path1\n"
   ]
  },
  {
   "cell_type": "code",
   "execution_count": 28,
   "metadata": {},
   "outputs": [
    {
     "data": {
      "text/plain": [
       "'C:\\\\Users\\\\Administrator\\\\PycharmProjects\\\\python进阶\\\\test'"
      ]
     },
     "execution_count": 28,
     "metadata": {},
     "output_type": "execute_result"
    }
   ],
   "source": [
    "path2 = os.path.abspath(\"test\")\n",
    "path2\n"
   ]
  },
  {
   "cell_type": "code",
   "execution_count": 29,
   "metadata": {},
   "outputs": [],
   "source": [
    "find_hello(path1, path2)\n"
   ]
  },
  {
   "cell_type": "code",
   "execution_count": 30,
   "metadata": {},
   "outputs": [
    {
     "data": {
      "text/plain": [
       "['C:\\\\Users\\\\Administrator\\\\PycharmProjects\\\\python进阶\\\\test\\\\1.py']"
      ]
     },
     "execution_count": 30,
     "metadata": {},
     "output_type": "execute_result"
    }
   ],
   "source": [
    "file_list"
   ]
  },
  {
   "cell_type": "code",
   "execution_count": null,
   "metadata": {},
   "outputs": [],
   "source": []
  }
 ],
 "metadata": {
  "kernelspec": {
   "display_name": "Python 2",
   "language": "python",
   "name": "python2"
  },
  "language_info": {
   "codemirror_mode": {
    "name": "ipython",
    "version": 2
   },
   "file_extension": ".py",
   "mimetype": "text/x-python",
   "name": "python",
   "nbconvert_exporter": "python",
   "pygments_lexer": "ipython2",
   "version": "2.7.6"
  }
 },
 "nbformat": 4,
 "nbformat_minor": 0
}
