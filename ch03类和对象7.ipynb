{
 "cells": [
  {
   "cell_type": "markdown",
   "metadata": {
    "collapsed": true
   },
   "source": [
    "### 1.Python中单下划线和双下划线的区别：\n",
    "通常Python类中会有_和__的方法，是指什么意思呢？如下：\n",
    "\n",
    "双下划线表示内部不允许访问，一个下划线表示这样的实例变量外部是可以访问的，但是，按照约定俗成的规定，当你看到这样的变量时，意思就是，“虽然我可以被访问，但是，请把我视为私有变量，不要随意访问”。\n",
    "双下划线开头的实例变量是不是一定不能从外部访问呢？其实也不是。不能直接访问__name是因为Python解释器对外把__name变量改成了_student__name，所以，仍然可以通过_student__name来访问__name变量。\n",
    "\n",
    "具体看下面例子就知道了：\n"
   ]
  },
  {
   "cell_type": "code",
   "execution_count": 1,
   "metadata": {},
   "outputs": [],
   "source": [
    "class Student(object):\n",
    "    def __init__(self, age, name):\n",
    "        self._age = age\n",
    "        self.__name = name\n",
    "\n",
    "    def set_name(self, name):\n",
    "        self.__name = name\n",
    "\n",
    "    def get_name(self):\n",
    "        return self.__name\n"
   ]
  },
  {
   "cell_type": "code",
   "execution_count": 18,
   "metadata": {},
   "outputs": [],
   "source": [
    "name = \"JackMa\"\n",
    "age = 47\n",
    "stu = Student(age, name)"
   ]
  },
  {
   "cell_type": "code",
   "execution_count": 19,
   "metadata": {},
   "outputs": [
    {
     "data": {
      "text/plain": [
       "47"
      ]
     },
     "execution_count": 19,
     "metadata": {},
     "output_type": "execute_result"
    }
   ],
   "source": [
    "stu._age\n"
   ]
  },
  {
   "cell_type": "code",
   "execution_count": 21,
   "metadata": {},
   "outputs": [
    {
     "ename": "AttributeError",
     "evalue": "'Student' object has no attribute '__name'",
     "traceback": [
      "\u001b[1;31m---------------------------------------------------------------------------\u001b[0m",
      "\u001b[1;31mAttributeError\u001b[0m                            Traceback (most recent call last)",
      "\u001b[1;32m<ipython-input-21-88092ce7bef6>\u001b[0m in \u001b[0;36m<module>\u001b[1;34m\u001b[0m\n\u001b[1;32m----> 1\u001b[1;33m \u001b[0mstu\u001b[0m\u001b[1;33m.\u001b[0m\u001b[0m__name\u001b[0m\u001b[1;33m\u001b[0m\u001b[1;33m\u001b[0m\u001b[0m\n\u001b[0m",
      "\u001b[1;31mAttributeError\u001b[0m: 'Student' object has no attribute '__name'"
     ],
     "output_type": "error"
    }
   ],
   "source": [
    "stu.__name"
   ]
  },
  {
   "cell_type": "code",
   "execution_count": 22,
   "metadata": {},
   "outputs": [
    {
     "data": {
      "text/plain": [
       "'JackMa'"
      ]
     },
     "execution_count": 22,
     "metadata": {},
     "output_type": "execute_result"
    }
   ],
   "source": [
    "stu.get_name()"
   ]
  },
  {
   "cell_type": "code",
   "execution_count": 23,
   "metadata": {},
   "outputs": [],
   "source": [
    "stu.set_name('xiaoming')"
   ]
  },
  {
   "cell_type": "code",
   "execution_count": 24,
   "metadata": {},
   "outputs": [
    {
     "data": {
      "text/plain": [
       "'xiaoming'"
      ]
     },
     "execution_count": 24,
     "metadata": {},
     "output_type": "execute_result"
    }
   ],
   "source": [
    "stu.get_name()"
   ]
  },
  {
   "cell_type": "code",
   "execution_count": 31,
   "metadata": {},
   "outputs": [
    {
     "data": {
      "text/plain": [
       "'xiaoming'"
      ]
     },
     "execution_count": 31,
     "metadata": {},
     "output_type": "execute_result"
    }
   ],
   "source": [
    "stu._Student__name  # 对象._类名__属性的方法进行访问（不建议这样使用，除非特殊的情况）\n"
   ]
  },
  {
   "cell_type": "markdown",
   "metadata": {},
   "source": [
    "小结：\n",
    "\n",
    "1、_name 不能用于’from module import *’ 以单下划线开头的表示的是protected类型的变量。即保护类型只能允许其本身与子类进行访问。\n",
    "\n",
    "2、__name 双下划线的表示的是私有类型的变量。只能是允许这个类本身进行访问了。连也是子类也不可以的。"
   ]
  },
  {
   "cell_type": "markdown",
   "metadata": {},
   "source": [
    "### 2.类属性"
   ]
  },
  {
   "cell_type": "code",
   "execution_count": 43,
   "metadata": {},
   "outputs": [],
   "source": [
    "class User(object):\n",
    "    name = \"zhantao\"  #公共的类属性\n",
    "    __password = \"123456\"  #私有（隐藏）的类属性\n",
    "    def __init__(self, sex, username):\n",
    "        self.sex = sex  #对象属性\n",
    "        self.username = username  #对象属性\n"
   ]
  },
  {
   "cell_type": "code",
   "execution_count": 44,
   "metadata": {},
   "outputs": [
    {
     "data": {
      "text/plain": [
       "'zhantao'"
      ]
     },
     "execution_count": 44,
     "metadata": {},
     "output_type": "execute_result"
    }
   ],
   "source": [
    "u1 = User(\"男\", \"goldfish\")\n",
    "u1.name"
   ]
  },
  {
   "cell_type": "code",
   "execution_count": 45,
   "metadata": {},
   "outputs": [
    {
     "data": {
      "text/plain": [
       "'zhantao'"
      ]
     },
     "execution_count": 45,
     "metadata": {},
     "output_type": "execute_result"
    }
   ],
   "source": [
    "u2 = User(\"女\", \"love\")\n",
    "u2.name\n"
   ]
  },
  {
   "cell_type": "code",
   "execution_count": 45,
   "metadata": {},
   "outputs": [
    {
     "data": {
      "text/plain": [
       "'zhantao'"
      ]
     },
     "execution_count": 35,
     "metadata": {},
     "output_type": "execute_result"
    }
   ],
   "source": [
    "User.name"
   ]
  },
  {
   "cell_type": "code",
   "execution_count": 47,
   "metadata": {},
   "outputs": [
    {
     "data": {
      "text/plain": [
       "'ww'"
      ]
     },
     "execution_count": 47,
     "metadata": {},
     "output_type": "execute_result"
    }
   ],
   "source": [
    "u1.name = \"ww\"#这里仅仅是修改了u1对象里面的类属性，而没有修改类里面的属性。因为类属性是属于类的，而不是属于某个对象的，所以要修改则需要通过类名来修改。\n",
    "u1.name"
   ]
  },
  {
   "cell_type": "code",
   "execution_count": 48,
   "metadata": {},
   "outputs": [
    {
     "data": {
      "text/plain": [
       "'zhantao'"
      ]
     },
     "execution_count": 48,
     "metadata": {},
     "output_type": "execute_result"
    }
   ],
   "source": [
    "u2.name"
   ]
  },
  {
   "cell_type": "code",
   "execution_count": 49,
   "metadata": {},
   "outputs": [
    {
     "data": {
      "text/plain": [
       "'ww'"
      ]
     },
     "execution_count": 49,
     "metadata": {},
     "output_type": "execute_result"
    }
   ],
   "source": [
    "User.name = \"ww\"#这才是真正修改了公共的类属性\n",
    "u2.name"
   ]
  },
  {
   "cell_type": "code",
   "execution_count": 50,
   "metadata": {},
   "outputs": [],
   "source": [
    "del u1.name#本质上只是删除了对象u1的name属性，并没有删除类里面的属性"
   ]
  },
  {
   "cell_type": "code",
   "execution_count": 51,
   "metadata": {},
   "outputs": [
    {
     "data": {
      "text/plain": [
       "'ww'"
      ]
     },
     "execution_count": 51,
     "metadata": {},
     "output_type": "execute_result"
    }
   ],
   "source": [
    "u1.name"
   ]
  },
  {
   "cell_type": "code",
   "execution_count": 52,
   "metadata": {},
   "outputs": [
    {
     "ename": "AttributeError",
     "evalue": "type object 'User' has no attribute '__password'",
     "traceback": [
      "\u001b[1;31m---------------------------------------------------------------------------\u001b[0m",
      "\u001b[1;31mAttributeError\u001b[0m                            Traceback (most recent call last)",
      "\u001b[1;32m<ipython-input-52-73ff03522f35>\u001b[0m in \u001b[0;36m<module>\u001b[1;34m\u001b[0m\n\u001b[1;32m----> 1\u001b[1;33m \u001b[0mUser\u001b[0m\u001b[1;33m.\u001b[0m\u001b[0m__password\u001b[0m\u001b[1;33m\u001b[0m\u001b[1;33m\u001b[0m\u001b[0m\n\u001b[0m",
      "\u001b[1;31mAttributeError\u001b[0m: type object 'User' has no attribute '__password'"
     ],
     "output_type": "error"
    }
   ],
   "source": [
    "User.__password"
   ]
  },
  {
   "cell_type": "markdown",
   "metadata": {},
   "source": [
    "### 3.类方法"
   ]
  },
  {
   "cell_type": "code",
   "execution_count": 55,
   "metadata": {},
   "outputs": [],
   "source": [
    "class A:\n",
    "    def test1(self):\n",
    "        print('A的test1')\n",
    "         \n",
    "    @classmethod  # 类方法一定要在方法的上面加上一个修饰器\n",
    "    def test2(cls):  # 其中参数不是self，而是cls，cls代表的是类本身，而self代表的是对象本身\n",
    "        print('A的test2')\n"
   ]
  },
  {
   "cell_type": "code",
   "execution_count": 56,
   "metadata": {},
   "outputs": [
    {
     "name": "stdout",
     "output_type": "stream",
     "text": [
      "A的test1\n"
     ]
    }
   ],
   "source": [
    "a = A()\n",
    "a.test1()"
   ]
  },
  {
   "cell_type": "code",
   "execution_count": 57,
   "metadata": {},
   "outputs": [
    {
     "name": "stdout",
     "output_type": "stream",
     "text": [
      "A的test2\n"
     ]
    }
   ],
   "source": [
    "a.test2()"
   ]
  },
  {
   "cell_type": "code",
   "execution_count": 58,
   "metadata": {},
   "outputs": [
    {
     "ename": "TypeError",
     "evalue": "test1() missing 1 required positional argument: 'self'",
     "traceback": [
      "\u001b[1;31m---------------------------------------------------------------------------\u001b[0m",
      "\u001b[1;31mTypeError\u001b[0m                                 Traceback (most recent call last)",
      "\u001b[1;32m<ipython-input-58-724320881748>\u001b[0m in \u001b[0;36m<module>\u001b[1;34m\u001b[0m\n\u001b[1;32m----> 1\u001b[1;33m \u001b[0mA\u001b[0m\u001b[1;33m.\u001b[0m\u001b[0mtest1\u001b[0m\u001b[1;33m(\u001b[0m\u001b[1;33m)\u001b[0m\u001b[1;33m\u001b[0m\u001b[1;33m\u001b[0m\u001b[0m\n\u001b[0m",
      "\u001b[1;31mTypeError\u001b[0m: test1() missing 1 required positional argument: 'self'"
     ],
     "output_type": "error"
    }
   ],
   "source": [
    "A.test1()"
   ]
  },
  {
   "cell_type": "code",
   "execution_count": 61,
   "metadata": {},
   "outputs": [
    {
     "name": "stdout",
     "output_type": "stream",
     "text": [
      "A的test2\n"
     ]
    }
   ],
   "source": [
    "A.test2()"
   ]
  },
  {
   "cell_type": "code",
   "execution_count": 66,
   "metadata": {},
   "outputs": [],
   "source": [
    "class A:\n",
    "    name = 'zs'\n",
    "    def test1(self):\n",
    "        print('A的test1')\n",
    "\n",
    "    @classmethod  # 类方法一定要在方法的上面加上一个修饰器\n",
    "    def test2(cls):  # 其中参数不是self，而是cls，cls代表的是类本身，而self代表的是对象本身\n",
    "        cls.name = 'ww' # 类方法可以修改类属性\n",
    "        print('A的test2')\n"
   ]
  },
  {
   "cell_type": "code",
   "execution_count": 69,
   "metadata": {},
   "outputs": [
    {
     "name": "stdout",
     "output_type": "stream",
     "text": [
      "A的test2\n"
     ]
    },
    {
     "data": {
      "text/plain": [
       "'ww'"
      ]
     },
     "execution_count": 69,
     "metadata": {},
     "output_type": "execute_result"
    }
   ],
   "source": [
    "A.test2()\n",
    "A.name"
   ]
  },
  {
   "cell_type": "markdown",
   "metadata": {},
   "source": [
    "### 4.静态方法"
   ]
  },
  {
   "cell_type": "markdown",
   "metadata": {},
   "source": [
    "静态方法属于类方法的一种，只不过修饰符不一样，需要使用@staticmethod，也是属于类的方法。\n",
    "\n",
    "区别：没有默认传递参数。这里所说的没有默认传递参数，并不是说没有参数，当然在方法里面也可以定义形参，只不过不像类方法那样，系统会自动的传入一些默认的参数（self和cls）。但是一但自己定义了参数，则调用的时候就必须要传入参数才行。\n"
   ]
  },
  {
   "cell_type": "code",
   "execution_count": 71,
   "metadata": {},
   "outputs": [],
   "source": [
    "class A:\n",
    "    name = 'zs'\n",
    "    def test1(self):\n",
    "        print('A的test1')\n",
    "\n",
    "    @classmethod  # 类方法一定要在方法的上面加上一个修饰器\n",
    "    def test2(cls):  # 其中参数不是self，而是cls，cls代表的是类本身，而self代表的是对象本身\n",
    "        cls.name = 'ww'  # 类方法可以修改类属性\n",
    "        print('A的test2')\n",
    "        \n",
    "    @staticmethod # 静态方法，类的方法，可以通过类名来调用，也可以通过对象来调用\n",
    "    def test3(): # 没有默认传递的参数\n",
    "        print('A的test3')\n"
   ]
  },
  {
   "cell_type": "code",
   "execution_count": 72,
   "metadata": {},
   "outputs": [
    {
     "name": "stdout",
     "output_type": "stream",
     "text": [
      "A的test3\n"
     ]
    }
   ],
   "source": [
    "A.test3()"
   ]
  },
  {
   "cell_type": "markdown",
   "metadata": {},
   "source": [
    "总结：<br>\n",
    "1、python中没有像c++中public和private这些关键字来区别公有属性和私有属性<br>\n",
    "\n",
    "2、它是以属性命名方式来区分，如果在属性名前加了两个下划线，则表明该属性是私有属性，否则为公有属性（函数也是一样的）。公有属性即可以通过类名来访问，也可以通过对象来访问。<br>\n",
    "\n",
    "3、继承仅仅是继承父类的公共方法和公共的类属性。<br>\n",
    "\n",
    "4、类属性是属于类的，而不是属于某个对象的，所以要修改则需要通过类名来修改。<br>\n",
    "\n",
    "5、如果对象属性有和类属性名字一模一样的，那么通过对象调用，则是调用的对象属性，值也是对象属性的值。此时需要用到公共的类属性，则需要通过类名来调用。（这一点是完全和java不一样的），在python当中，对象属性和类属性是完全分开的。<br>\n",
    "\n",
    "6、公共方法和类方法里面的self和cls形参名字可不可以随便修改？当然是可以的，只是一个参数名字而已，只是我们需要做到见其名知其意，所以习惯性的用self代表对象本身，使用cls代表类本身。\n"
   ]
  },
  {
   "cell_type": "markdown",
   "metadata": {},
   "source": [
    "### 5.__new__ 方法\n"
   ]
  },
  {
   "cell_type": "code",
   "execution_count": 82,
   "metadata": {},
   "outputs": [],
   "source": [
    "# __new__方法跟跟__init__方法是一样的，由系统解析器自动调用。\n",
    "# 而__new__方法必须要有一个返回值，是返回它的一个对象实例。\n",
    "\n",
    "class User(object):\n",
    "    def __init__(self, username, password):\n",
    "        self.username = username\n",
    "        self.password = password\n",
    "        print(\"对象已经构建好了，由解释器自动回调的init方法，对象初始化\")\n",
    "\n",
    "    # new方法是当对象构建的时候由解释器自动回调的方法，\n",
    "    # 该方法必须返回当前类的对象，重写的是父类的静态方法\n",
    "    def __new__(cls, username, password):  # 如果初始化方法传入了其它参数，在这里也需要加入其它的方法\n",
    "        print(\"User类的对象开始构建\")\n",
    "        return object.__new__(cls)  # 如果没有返回实例，代表根本没有创建实例。\n",
    "    \n",
    "    def __str__(self):  # 返回的是一个字符串\n",
    "        return \"名称：%s，密码：%s\" % (self.username, self.password)\n"
   ]
  },
  {
   "cell_type": "code",
   "execution_count": 83,
   "metadata": {},
   "outputs": [
    {
     "name": "stdout",
     "output_type": "stream",
     "text": [
      "User类的对象开始构建\n对象已经构建好了，由解释器自动回调的init方法，对象初始化\n"
     ]
    }
   ],
   "source": [
    "u = User('zs',123)\n"
   ]
  },
  {
   "cell_type": "code",
   "execution_count": 84,
   "metadata": {},
   "outputs": [
    {
     "data": {
      "text/plain": [
       "'名称：zs，密码：123'"
      ]
     },
     "execution_count": 84,
     "metadata": {},
     "output_type": "execute_result"
    }
   ],
   "source": [
    "u.__str__()"
   ]
  },
  {
   "cell_type": "markdown",
   "metadata": {},
   "source": [
    "总结：\n",
    "\n",
    "new_至少要有一个参数cls，代表要实例化的类，此参数在实例化时由Python解释器自动提供；\n",
    "\n",
    "new必须要有返回值，返回实例化出来的实例，这点在自己实现new时要特别注意，可以return父类new出来的实例，或者直接是object的new出来的实例；\n",
    "\n",
    "init有一个参数self，就是这个new返回的实例，init在new的基础上可以完成一些其它初始化的动作，init不需要返回值；\n",
    "\n"
   ]
  },
  {
   "cell_type": "code",
   "execution_count": null,
   "metadata": {},
   "outputs": [],
   "source": []
  }
 ],
 "metadata": {
  "kernelspec": {
   "display_name": "Python 2",
   "language": "python",
   "name": "python2"
  },
  "language_info": {
   "codemirror_mode": {
    "name": "ipython",
    "version": 2
   },
   "file_extension": ".py",
   "mimetype": "text/x-python",
   "name": "python",
   "nbconvert_exporter": "python",
   "pygments_lexer": "ipython2",
   "version": "2.7.6"
  }
 },
 "nbformat": 4,
 "nbformat_minor": 0
}
