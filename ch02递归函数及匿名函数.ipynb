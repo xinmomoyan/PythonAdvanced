{
 "cells": [
  {
   "cell_type": "markdown",
   "metadata": {
    "collapsed": true
   },
   "source": [
    "### 递归函数和匿名函数<br>\n",
    "https://blog.csdn.net/ivenqin/article/category/8617200/3?<br>\n",
    "https://blog.csdn.net/amir_zt/article/category/1552225"
   ]
  },
  {
   "cell_type": "markdown",
   "metadata": {},
   "source": [
    "#### 1、递归函数<br>\n",
    "函数内调用自己本身函数，就叫做递归函数。<br>\n",
    "计算一个数字的阶乘n!= 1 * 2 * 3 * 4 *...... * n<br>\n",
    "注意：<br>\n",
    "1、在函数的内部调用自己本身。<br>\n",
    "2、递归函数本质是一个方法的循环调用。有可能出现死循环。<br>\n",
    "3、一定要定义递归的边界（什么时候退出循环）<br>\n"
   ]
  },
  {
   "cell_type": "code",
   "execution_count": 1,
   "metadata": {},
   "outputs": [],
   "source": [
    "def factorial(n):\n",
    "    if n < 0:\n",
    "        print(\"负数没有阶乘\")\n",
    "    elif n == 0 or n == 1:\n",
    "        #定义函数的终止条件\n",
    "        return 1\n",
    "    else:\n",
    "        #定义函数的阶乘\n",
    "        return n * factorial(n - 1)\n"
   ]
  },
  {
   "cell_type": "code",
   "execution_count": 3,
   "metadata": {},
   "outputs": [
    {
     "data": {
      "text/plain": [
       "3628800"
      ]
     },
     "execution_count": 3,
     "metadata": {},
     "output_type": "execute_result"
    }
   ],
   "source": [
    "a = factorial(10)\n",
    "a"
   ]
  },
  {
   "cell_type": "code",
   "execution_count": 9,
   "metadata": {},
   "outputs": [
    {
     "name": "stdout",
     "output_type": "stream",
     "text": [
      "1 1 2 3 5 8 13 21 34 55 89 144 "
     ]
    }
   ],
   "source": [
    "# 斐波那契数列\n",
    "pre = 1\n",
    "next = 1\n",
    "print(pre, end=' ')\n",
    "print(next, end=' ')\n",
    "for i in range(10):\n",
    "    pre, next = next, pre + next\n",
    "    print(next, end=' ')\n"
   ]
  },
  {
   "cell_type": "markdown",
   "metadata": {},
   "source": [
    "#### 递归函数的特性:\n",
    "\n",
    "1)递归一定需要有结束条件；\n",
    "\n",
    "2)每次进入更深一层递归时，问题规模比上一次递归都应有所减少；\n",
    "\n",
    "2)通常前一次递归的输出就作为后一次递归的输入；\n",
    "\n",
    "4)递归效率不高，递归层次过多会导致栈溢出；"
   ]
  },
  {
   "cell_type": "markdown",
   "metadata": {},
   "source": [
    "#### 2、匿名函数"
   ]
  },
  {
   "cell_type": "markdown",
   "metadata": {},
   "source": [
    "用lambda关键词能创建小型匿名函数。这种函数得名于省略了用def声明函数的标准步骤。\n",
    "lambda函数的语法只包含一个语句：<br>\n",
    "lambda [arg1 [, arg2, ......, argn]]:expression    # lambda 参数 : 表达式<br>\n",
    "例如：<br>\n",
    "普通的函数实现一个简单的加法。"
   ]
  },
  {
   "cell_type": "code",
   "execution_count": 5,
   "metadata": {},
   "outputs": [
    {
     "data": {
      "text/plain": [
       "33"
      ]
     },
     "execution_count": 5,
     "metadata": {},
     "output_type": "execute_result"
    }
   ],
   "source": [
    "func = lambda x, y : x + y\n",
    "func(11,22)"
   ]
  },
  {
   "cell_type": "markdown",
   "metadata": {},
   "source": [
    "常用招数-使用匿名函数方式实现动态函数："
   ]
  },
  {
   "cell_type": "code",
   "execution_count": 8,
   "metadata": {},
   "outputs": [
    {
     "data": {
      "text/plain": [
       "33"
      ]
     },
     "execution_count": 8,
     "metadata": {},
     "output_type": "execute_result"
    }
   ],
   "source": [
    "def test(a, b, function):\n",
    "    result = function(a, b)  # 在此函数里面，并未指定对a,b两个变量的操作方式，最终的结果与传入的匿名函数的实现方式为结果\n",
    "    return result\n",
    "test(11, 22, lambda x, y: x + y)  # 此处传入的匿名函数对a, b两个参数的操作为执行相加\n"
   ]
  },
  {
   "cell_type": "code",
   "execution_count": null,
   "metadata": {},
   "outputs": [],
   "source": []
  }
 ],
 "metadata": {
  "kernelspec": {
   "display_name": "Python 2",
   "language": "python",
   "name": "python2"
  },
  "language_info": {
   "codemirror_mode": {
    "name": "ipython",
    "version": 2
   },
   "file_extension": ".py",
   "mimetype": "text/x-python",
   "name": "python",
   "nbconvert_exporter": "python",
   "pygments_lexer": "ipython2",
   "version": "2.7.6"
  }
 },
 "nbformat": 4,
 "nbformat_minor": 0
}
